{
 "cells": [
  {
   "cell_type": "code",
   "execution_count": 1,
   "metadata": {},
   "outputs": [
    {
     "name": "stdout",
     "output_type": "stream",
     "text": [
      "Pretty printing has been turned OFF\n"
     ]
    }
   ],
   "source": [
    "%pprint"
   ]
  },
  {
   "cell_type": "markdown",
   "metadata": {},
   "source": [
    "**Note** The above is called a **magic command** for the IPython kernel (which is under the hood of the Jupyter Notebook). These commands impact characteristics of the entire notebook."
   ]
  },
  {
   "cell_type": "code",
   "execution_count": 2,
   "metadata": {
    "collapsed": true
   },
   "outputs": [],
   "source": [
    "# Import the numpy package as np. Therefore, the functions of numpy can be accessed with the short name, np.\n",
    "import numpy as np\n",
    "# This makes matplotlib work more like MATLAB - each pyplot function makes a change to the figure.\n",
    "import matplotlib.pyplot as plt\n",
    "\n",
    "import sys"
   ]
  },
  {
   "cell_type": "markdown",
   "metadata": {},
   "source": [
    "**Note** We will cover what this means in the [Packages](#Packages) section later."
   ]
  },
  {
   "cell_type": "markdown",
   "metadata": {},
   "source": [
    "## Welcome to Python Fundamentals for Engineers and Manufacturers - Day 1"
   ]
  },
  {
   "cell_type": "markdown",
   "metadata": {
    "collapsed": true
   },
   "source": [
    "### What is Python?\n",
    "\n",
    "![Official Python Logo](images/python_official_logo.png)\n",
    "\n",
    "* First released in 1991.\n",
    "* High-level programming language.\n",
    "* Free and open-source.\n",
    "* Interpreted.\n",
    "* Cross-platform (mostly).\n",
    "* Extensive standard library.\n",
    "* Automatic memory management.\n",
    "* Designed to be highly readable and explicit.\n",
    "* Proven to be quite versatile and popular.\n",
    "* **Reasonably fast** for many applications (more on that later)."
   ]
  },
  {
   "cell_type": "markdown",
   "metadata": {},
   "source": [
    "### Markdown\n",
    "\n",
    "[Markdown](https://github.com/adam-p/markdown-here/wiki/Markdown-Cheatsheet) is a lightweight markup language which can create rich text (and can be easily converted to other presentation formats like HTML) using a plain text editor.\n",
    "\n",
    "Many of the cells within this Jupyter Notebook contain Markdown and Markdown is **very** popular within the programming space. Many source code documentation systems use Markdown.\n",
    "\n",
    "For example, the [Sphinx](http://www.sphinx-doc.org/en/master/) Python documentation generator can use Markdown using the [recommonmark](http://recommonmark.readthedocs.io/en/latest/index.html) parser."
   ]
  },
  {
   "cell_type": "markdown",
   "metadata": {},
   "source": [
    "### What is a Jupyter Notebook?\n",
    "\n",
    "![Sample of an Interesting Jupyter Notebook](images/jupyter_notebook_example.png)\n",
    "\n",
    "A **Jupyter Notebook** is a human-readable document which can contain a blend of Python ([but not only Python code](https://github.com/jupyter/jupyter/wiki/Jupyter-kernels)) and rich-text (e.g. images, figures, tables). It is a great way to display the experiemental results or distribute encapsulated company knowledge throughout engineering departments."
   ]
  },
  {
   "cell_type": "markdown",
   "metadata": {},
   "source": [
    "### Common Python Use Cases\n",
    "\n",
    "* Data analytics.\n",
    "* Machine learning.\n",
    "* [Robot control](http://www.ros.org/)\n",
    "* Computational geometry.\n",
    "* Application prototyping.\n",
    "* Web applications.\n",
    "* Cybersecurity."
   ]
  },
  {
   "cell_type": "markdown",
   "metadata": {},
   "source": [
    "### Why Python instead of MATLAB?\n",
    "\n",
    "Python is free and open-source while MATLAB is proprietary and somewhat expensive. Python libraries can be deployed to many different contexts and use-cases whereas MATLAB libraries cannot leave the core MATLAB runtime environment.\n",
    "\n",
    "In terms of [domain modeling](https://en.wikipedia.org/wiki/Domain_model), Python is the programming language to use as compared to MATLAB. Both Python and MATLAB possess object-oriented features, but the ones that Python provides are generally more powerful.\n",
    "\n",
    "MATLAB does have some advantages, however. Integrated MATLAB tooling around modeling discrete/continuous systems and code generation ([Simulink](https://www.mathworks.com/products/simulink.html)) is more advanced than what is generally available in Python libraries. Also, MATLAB toolboxes (e.g. real-time and machine vision) tend to be more suitable for research (and some industrial) environments where reuse is not as important.\n",
    "\n",
    "MATLAB has also recently implemented some pretty interesting [deep learning toolsets](https://www.mathworks.com/solutions/deep-learning.html?s_tid=hp_brand_deeplearning) that, while can be built in Python, are easier to use and be productive with."
   ]
  },
  {
   "cell_type": "markdown",
   "metadata": {},
   "source": [
    "### Python's Popularity\n",
    "\n",
    "#### [TIOBE Programming Language Index](https://www.tiobe.com/tiobe-index/)\n",
    "\n",
    "![Python in the TIOBE Index](images/tiobe_programming_lanugage_index_2018.png)\n",
    "\n",
    "#### [Google Search Machine Learning Programming Language Popularity](https://www.ibm.com/developerworks/community/blogs/jfp/entry/What_Language_Is_Best_For_Machine_Learning_And_Data_Science?lang=en)\n",
    "\n",
    "![Python Popularity according to Google Search](images/machine_learning_python_popularity_2016.png)\n",
    "\n",
    "#### [Most In-Demand Languages According to Indeed.com](https://stackify.com/popular-programming-languages-2018/)\n",
    "\n",
    "![Python Popularity for Job Openings on Indeed.com](images/most_indemand_languages_indeed_2017.png)"
   ]
  },
  {
   "cell_type": "markdown",
   "metadata": {},
   "source": [
    "### Python 2 versus Python 3\n",
    "\n",
    "Python 3 is what we will be using throughout this workshop.\n",
    "\n",
    "Python 3 is **not** backwards-compatible with Python 2. Therefore, code written against a Python 3 interpreter is not guaranteed to run on a Python 2 interpreter.\n",
    "\n",
    "Python 3 made several breaking changes to the language. These changes include:\n",
    "\n",
    "* Better [Unicode](https://unicode-table.com/en/) support.\n",
    "* Integrated asynchronous and concurrent code support.\n",
    "* Improved type safety with strings.\n",
    "* Improved consistency with some built-in functions (e.g. `print()`).\n",
    "* Complete harmonization of \"types\" and \"classes\".\n",
    "\n",
    "**For new projects, use Python 3.**\n",
    "\n",
    "Although [many](http://py3readiness.org/) popular Python libraries and projects have largely or completely converted their codebases to Python 3 from Python 2, there are exceptions. **Always** check the repository's `README` and/or `CONTRIBUTING` file and/or issue tracker for clues on which Python version that the project is currently using.\n",
    "\n",
    "A popular compatibility library called [six](https://pythonhosted.org/six/) is often used by codebases in transition to Python 3 as both Python 2 and Python 3 code can co-exist in the same codebase when using six."
   ]
  },
  {
   "cell_type": "markdown",
   "metadata": {},
   "source": [
    "### Zen of Python\n",
    "\n",
    "![Printout of the Zen of Python in the Interpreter](images/zen_of_python_easter_egg.png)\n",
    "\n",
    "**Explicit is better than implicit.**\n",
    "\n",
    "**Simple is better than complex.**"
   ]
  },
  {
   "cell_type": "markdown",
   "metadata": {
    "collapsed": true
   },
   "source": [
    "### Python Interpreter\n",
    "\n",
    "![Python Interpreter Internals](images/python_interpreter_internals.png)\n",
    "\n",
    "The official **Python Interpreter** (also called CPython) is responsible for consuming Python source code (`.py` files), compiling the source code into Python Bytecode (`.pyc` files or stored in-memory) and then running the bytecode **line-by-line** inside of the Python Virtual Machine.\n",
    "\n",
    "Want to really dive down into the Python Interpreter internals? Check out [this](https://www.youtube.com/watch?v=LhadeL7_EIU) great video by Philip Guo (first of many).\n",
    "\n",
    "Python source files are also known as **modules**."
   ]
  },
  {
   "cell_type": "markdown",
   "metadata": {},
   "source": [
    "### REPL (Read, Eval, Print, Loop) Environment\n",
    "\n",
    "One of Python's best traits is the availability of a built-in REPL environment from a shell environment (i.e. Terminal in macOS/Linux and Command Line in Windows). This allows you to do lightweight \"experiments\" in Python before perhaps committing the code to a Python script file (`.py` file).\n",
    "\n",
    "You can access this environment by typing `python` in your system shell.\n",
    "\n",
    "**Note** From now on, the `$` symbol will proceed all shell commands and this symbol, when found as a first character on a line, is not to be typed into your shell. It is just there to delineate between sequential shell commands right next to each other.\n",
    "\n",
    "After issuing the `python` command, you should see something like this:\n",
    "\n",
    "![Fresh Python Environment on macOS](images/fresh_python_environment.png)\n",
    "\n",
    "The `>>>` is a prompt waiting for your Python code to be executed (in many cases, instantly).\n",
    "\n",
    "If you see a `...` prompt, this means that the Python interpreter is waiting for more Python code to be entered before it can execute what you started in the `>>>` line. You usually see the `...` if you are typing function or class definitions.\n",
    "\n",
    "For example, let's create a simple function within the Python REPL environment. The following is the function definition we will use (we will ignore the [docstring](https://en.wikipedia.org/wiki/Docstring#Python))."
   ]
  },
  {
   "cell_type": "code",
   "execution_count": 3,
   "metadata": {
    "collapsed": true
   },
   "outputs": [],
   "source": [
    "def compute_sum(x, y):\n",
    "    \"\"\"Takes two numbers and returns the sum.\n",
    "    \n",
    "    Parameters\n",
    "    ----------\n",
    "    x : int\n",
    "        The first number.\n",
    "    y : int\n",
    "        The second number.\n",
    "        \n",
    "    Returns\n",
    "    -------\n",
    "    int\n",
    "        The sum of the provided numbers.\n",
    "    \"\"\"\n",
    "    sum = x + y\n",
    "    return sum"
   ]
  },
  {
   "cell_type": "markdown",
   "metadata": {},
   "source": [
    "![computeSum Function Definition in the REPL](images/simple_function_in_repl.png)\n",
    "\n",
    "**Note** In many languages, curly braces (`{` and `}`) are used to denote the beginning and the end of function definitions. Python uses idents. More on that later..."
   ]
  },
  {
   "cell_type": "markdown",
   "metadata": {},
   "source": [
    "As a preview, let's run the function that we just created and assign a name to the result of that function."
   ]
  },
  {
   "cell_type": "code",
   "execution_count": 4,
   "metadata": {},
   "outputs": [
    {
     "name": "stdout",
     "output_type": "stream",
     "text": [
      "3\n"
     ]
    }
   ],
   "source": [
    "first_sum = compute_sum(1, 2)\n",
    "print(first_sum)"
   ]
  },
  {
   "cell_type": "markdown",
   "metadata": {},
   "source": [
    "### Python Package Index\n",
    "\n",
    "The **Python Package Index** or **PyPI** is a public repository for (mostly open-source) Python libraries (packages) that you can use in your Python software projects.\n",
    "\n",
    "You can also publish your own re-usable Python code to PyPI so that others can use them.\n",
    "\n",
    "#### Using pip\n",
    "\n",
    "Packages can be downloaded and installed to a user's computer by running the `pip` command in your shell.\n",
    "\n",
    "![Get pip Version and Install Django via pip](images/pip_version_pip_install_django.png)\n",
    "\n",
    "The first command displays the version of the currently installed pip binary.\n",
    "\n",
    "The second command will install the **latest version** of [Django](https://www.djangoproject.com/).\n",
    "\n",
    "**Note** The second command will install the Django package **globally** on your computer. More on that soon...\n",
    "\n",
    "#### Using a requirements file\n",
    "\n",
    "A requirements file (usually this file is named `requirements.txt`) is a plain-text list of a project's required Python packages (and the desired versions of these packages) so that other people who are working with the Python code can easily retrieve all of these packages in one shot.\n",
    "\n",
    "Here is an example of a requirements file from the [Cookiecutter Django]() project:\n",
    "\n",
    "![Sample pip Requirements File from Cookiecutter Django](images/django_cookiecutter_root_requirements_file.png)\n",
    "\n",
    "Each package name is tied to a version after the `==`.\n",
    "\n",
    "All of the packages within the `requirements.txt` file can be downloaded to a computer with the `pip install -r requirements.txt` shell command.\n",
    "\n",
    "![Install all Packages from a Requirements File](images/pip_install_requirements_file.png)\n",
    "\n",
    "#### Using Virtual Environments\n",
    "\n",
    "In general, installing Python packages **globally** is a bad idea because you may be working on multiple Python projects each potentially requiring different versions of the same Python package.\n",
    "\n",
    "Therefore, it is a better idea to use **virtual environments** to isolate sets of packages from each other. Anaconda provides this functionality out-of-the-box via the `conda create` shell command.\n",
    "\n",
    "To create a virtual environment with Anaconda, use `conda create --name myenv`\n",
    "\n",
    "![Using conda to Create the myenv Virtual Environment](images/create_myenv_virtual_environment_with_conda.png)\n",
    "\n",
    "Next, you probably want to install `pip` into the newly created virtual environment. This can be done by running:\n",
    "\n",
    "`$ conda install -n myenv pip`\n",
    "\n",
    "To activate the \"myenv\" virtual environment:\n",
    "\n",
    "* On Windows: `activate myenv`\n",
    "* On macOS and Linux: `source activate myenv`\n",
    "\n",
    "Once activated, you will see the name of the activated virtual environment in the shell. In this case, `(myenv)`:\n",
    "\n",
    "![myenv Virtual Environment Activated](images/myenv_virtual_environment_activated.png)\n",
    "\n",
    "Pip can now be used normally to install Python packages within the \"myenv\" virtual environment and these Python packages will only be installed into this virtual environment and will only be usable if the virtual environment is activated.\n",
    "\n",
    "To deactivate this virtual environment:\n",
    "\n",
    "* On Windows: `deactivate`\n",
    "* On macOS and Linux: `source deactivate`\n",
    "\n",
    "Multiple virtual environments can be created on a single system. For example, you can create an \"anotherenv\" virtual environment with `conda create --name anotherenv`.\n",
    "\n",
    "The Python environments now might look something like the image below on the system (once the show packages and their versions are installed into each virtual environment).\n",
    "\n",
    "![Python Virtual Environments](images/python_virtual_environments.png)"
   ]
  },
  {
   "cell_type": "markdown",
   "metadata": {},
   "source": [
    "### Python Data Types\n",
    "\n",
    "**Everything** in Python is an object.\n",
    "\n",
    "#### What is an \"object\" according to Python?\n",
    "\n",
    "> Everything is an object in the sense that it can be assigned to a variable or passed as an argument to a function.\n",
    "\n",
    "[Source](http://www.diveintopython.net/getting_to_know_python/everything_is_an_object.html)\n",
    "\n",
    "Python includes the [Python Standard Library](https://docs.python.org/3/library/index.html) which is a collection of facilities which make building useful Python applications easier.\n",
    "\n",
    "The Python Standard Library includes:\n",
    "\n",
    "* Built-in types\n",
    "* Helpful and efficient functions.\n",
    "* Cross-platform abstractions.\n",
    "* **Native access to low-level, operating system resources such as file I/O and network services.**\n",
    "* Built-in code testing, documentation, debugging and profiling infrastructure.\n",
    "* Internationalization.\n",
    "* Interface to Tcl/Tk for building cross-platform GUIs.\n",
    "* Concurrency interfaces.\n",
    "* **Foreign Function Interface (FFI) tools (`ctypes`).**\n",
    "\n",
    "#### Python Runtime Layers\n",
    "\n",
    "![Python Virtual Machine Interaction Diagram with Physical Machine](images/python_virtual_machine_physical_machine_interaction.png)\n",
    "\n",
    "Sometimes, interpreted Python (CPython) is just too slow for the application domain, but keeping the Python Application Programming Interface (API) is still desirable given Python's easy-of-use.\n",
    "\n",
    "For these scenarios, there are several options to use compiled languages (which are generally faster) with Python:\n",
    "\n",
    "| Compiled Language | FFI Tooling Option(s)       |\n",
    "|-------------------|-----------------------------|\n",
    "| C                 | ctypes, Cython, CFFI        |\n",
    "| C++               | Boost.Python, Cython        |\n",
    "| Fortran           | F2PY                        |\n",
    "\n",
    "The [NumPy](http://www.numpy.org/) project, for example, has all of its **critical code sections** written in high-performance [Fortran](https://en.wikipedia.org/wiki/Fortran) and uses [F2PY](https://sysbio.ioc.ee/projects/f2py2e/) to integrate the Fortran code with Python.\n",
    "\n",
    "#### Popular Built-in Data Types\n",
    "\n",
    "Python has available a number of \"built-in\" data types that are very commonly used. Later, we will introduce ways in which you can make your own, custom data types.\n",
    "\n",
    "| Type      | Description                 | Example(s)                                                           |\n",
    "|-----------|-----------------------------|----------------------------------------------------------------------|\n",
    "| `int`     | Integer                     | `3`                                                                  |\n",
    "| `float`   | Floating point number       | `3.0`                                                                |\n",
    "| `complex` | Complex number              | `3 + 3j`                                                             |\n",
    "| `str`     | String                      | `'test'`, `\"this is a 'test'\"`, `\"\"\"Hello!\"\"\"`, `'''Hello world!'''` |\n",
    "| `bool`    | Boolean, subtype of Integer | `True`, `False`                                                      |\n",
    "| `list`    | List                        | `[]`, `[a]`, `[a, b, c]`                                             |\n",
    "| `tuple`   | Tuple                       | `()`, `(a,)`, `(a, b, c)`                                            |\n",
    "| `range`   | Range                       | `list(range(10))`                                                    |\n",
    "| `dict`    | Dictionary                  | `{'one': 1, 'two': 2, 'three': 3}`                                   |"
   ]
  },
  {
   "cell_type": "markdown",
   "metadata": {},
   "source": [
    "#### Numeric Types and Operations\n",
    "\n",
    "**Numeric types** are `int`, `float` and `complex`."
   ]
  },
  {
   "cell_type": "code",
   "execution_count": 5,
   "metadata": {},
   "outputs": [
    {
     "data": {
      "text/plain": [
       "3"
      ]
     },
     "execution_count": 5,
     "metadata": {},
     "output_type": "execute_result"
    }
   ],
   "source": [
    "# Addition.\n",
    "\n",
    "1 + 2"
   ]
  },
  {
   "cell_type": "code",
   "execution_count": 6,
   "metadata": {},
   "outputs": [
    {
     "data": {
      "text/plain": [
       "-1"
      ]
     },
     "execution_count": 6,
     "metadata": {},
     "output_type": "execute_result"
    }
   ],
   "source": [
    "# Substraction.\n",
    "\n",
    "1 - 2"
   ]
  },
  {
   "cell_type": "code",
   "execution_count": 7,
   "metadata": {},
   "outputs": [
    {
     "data": {
      "text/plain": [
       "3.0"
      ]
     },
     "execution_count": 7,
     "metadata": {},
     "output_type": "execute_result"
    }
   ],
   "source": [
    "# Multiplication.\n",
    "\n",
    "1.5 * 2\n",
    "\n",
    "# What is happening here?"
   ]
  },
  {
   "cell_type": "markdown",
   "metadata": {},
   "source": [
    "Python support something called **automatic type conversion**. This is sometimes called implicit type conversion.\n",
    "\n",
    "Numerical types, when encountering other numerical types in, say, numerical operations, get automatically converted to the **larger** data type.\n",
    "\n",
    "That means that `int`s get automatically converted to `float`s and so on according to the figure below."
   ]
  },
  {
   "cell_type": "markdown",
   "metadata": {},
   "source": [
    "![Data Type Precedence for Automatic Type Conversion](images/data_type_automatic_type_conversion_precedence.png)"
   ]
  },
  {
   "cell_type": "markdown",
   "metadata": {},
   "source": [
    "Some data types will not be automatically converted when exposed to certain operations. For example, if you try to add an `int` to a `str` or vice-versa (as shown below). This combination will throw a [`TypeError`](https://docs.python.org/3/library/exceptions.html#TypeError)."
   ]
  },
  {
   "cell_type": "code",
   "execution_count": 8,
   "metadata": {
    "collapsed": true
   },
   "outputs": [],
   "source": [
    "# 2 + \"sme\"\n",
    "\n",
    "# This will throw a TypeError."
   ]
  },
  {
   "cell_type": "markdown",
   "metadata": {},
   "source": [
    "However, the following will work. But no type conversion is actually taking place here. A new `str` object is being created by concatenating the operand `str` together as many times as the numerical operand specifies."
   ]
  },
  {
   "cell_type": "code",
   "execution_count": 9,
   "metadata": {},
   "outputs": [
    {
     "data": {
      "text/plain": [
       "'SME SME SME SME '"
      ]
     },
     "execution_count": 9,
     "metadata": {},
     "output_type": "execute_result"
    }
   ],
   "source": [
    "\"SME \" * 4"
   ]
  },
  {
   "cell_type": "code",
   "execution_count": 10,
   "metadata": {
    "collapsed": true
   },
   "outputs": [],
   "source": [
    "# \"SME \" * 4.0\n",
    "\n",
    "# This will not work because you can only multiply a sequence by an int type and Python will not automatically\n",
    "# convert the float to an int."
   ]
  },
  {
   "cell_type": "code",
   "execution_count": 11,
   "metadata": {},
   "outputs": [
    {
     "data": {
      "image/png": "[encoded data removed]",
      "text/plain": [
       "<matplotlib.figure.Figure object at 0x10f724ba8>"
      ]
     },
     "metadata": {},
     "output_type": "display_data"
    }
   ],
   "source": [
    "# Create vector equivalent of 1.5.\n",
    "original_vector = np.array([[0, 0, 1.5, 0]])\n",
    "# Multiply the original vector by 2.\n",
    "new_vector = np.multiply(original_vector, 2)\n",
    "# Un-zip the original vector into several names.\n",
    "x1, y1, u1, v1 = zip(*original_vector)\n",
    "# Un-zip the new vector into several names. \n",
    "x2, y2, u2, v2 = zip(*new_vector)\n",
    "# Create a new figure in memory (for later drawing and showing).\n",
    "plt.figure()\n",
    "# Get current axes on the figure.\n",
    "ax = plt.gca()\n",
    "# Add the first (original) vector to the figure (but do not yet draw it).\n",
    "ax.quiver(x1, y1, u1, v1, angles='xy', scale_units='xy', scale=1)\n",
    "# Add the second (new) vector to the figure (but do not yet draw it).\n",
    "ax.quiver(x2, y2, u2, v2, angles='xy', scale_units='xy', scale=1)\n",
    "# Set X-axis limits from -1 to 10.\n",
    "ax.set_xlim([-1, 10])\n",
    "# Set Y-axis limits from -1 to 10.\n",
    "ax.set_ylim([-1, 10])\n",
    "# Draw the vectors.\n",
    "plt.draw()\n",
    "# Show the figure.\n",
    "plt.show()"
   ]
  },
  {
   "cell_type": "code",
   "execution_count": 12,
   "metadata": {},
   "outputs": [
    {
     "data": {
      "text/plain": [
       "(1.5+2.4j)"
      ]
     },
     "execution_count": 12,
     "metadata": {},
     "output_type": "execute_result"
    }
   ],
   "source": [
    "# Multiplication again.\n",
    "\n",
    "1.5+1.2j * 2\n",
    "\n",
    "# What is going on here?"
   ]
  },
  {
   "cell_type": "code",
   "execution_count": 13,
   "metadata": {},
   "outputs": [
    {
     "data": {
      "image/png": "[encoded data removed]",
      "text/plain": [
       "<matplotlib.figure.Figure object at 0x1147b1828>"
      ]
     },
     "metadata": {},
     "output_type": "display_data"
    }
   ],
   "source": [
    "original_vector = np.array([[0, 0, 1.5, 1.2]])\n",
    "new_vector = np.array([[0, 0, 1.5, 1.2 * 2]])\n",
    "x1, y1, u1, v1 = zip(*original_vector)\n",
    "x2, y2, u2, v2 = zip(*new_vector)\n",
    "plt.figure()\n",
    "ax = plt.gca()\n",
    "ax.quiver(x1, y1, u1, v1, angles='xy', scale_units='xy', scale=1)\n",
    "ax.quiver(x2, y2, u2, v2, angles='xy', scale_units='xy', scale=1, )\n",
    "ax.set_xlim([-1, 10])\n",
    "ax.set_ylim([-1, 10])\n",
    "plt.draw()\n",
    "plt.show()"
   ]
  },
  {
   "cell_type": "code",
   "execution_count": 14,
   "metadata": {},
   "outputs": [
    {
     "data": {
      "text/plain": [
       "(3+2.4j)"
      ]
     },
     "execution_count": 14,
     "metadata": {},
     "output_type": "execute_result"
    }
   ],
   "source": [
    "# Multiplication yet again.\n",
    "\n",
    "(1.5+1.2j) * 2"
   ]
  },
  {
   "cell_type": "code",
   "execution_count": 15,
   "metadata": {},
   "outputs": [
    {
     "data": {
      "image/png": "[encoded data removed]",
      "text/plain": [
       "<matplotlib.figure.Figure object at 0x1147b1d30>"
      ]
     },
     "metadata": {},
     "output_type": "display_data"
    }
   ],
   "source": [
    "original_vector = np.array([[0, 0, 1.5, 1.2]])\n",
    "new_vector = np.multiply(original_vector, 2)\n",
    "x1, y1, u1, v1 = zip(*original_vector)\n",
    "x2, y2, u2, v2 = zip(*new_vector)\n",
    "plt.figure()\n",
    "ax = plt.gca()\n",
    "ax.quiver(x1, y1, u1, v1, angles='xy', scale_units='xy', scale=1)\n",
    "ax.quiver(x2, y2, u2, v2, angles='xy', scale_units='xy', scale=1, )\n",
    "ax.set_xlim([-1, 10])\n",
    "ax.set_ylim([-1, 10])\n",
    "plt.draw()\n",
    "plt.show()"
   ]
  },
  {
   "cell_type": "code",
   "execution_count": 16,
   "metadata": {},
   "outputs": [
    {
     "data": {
      "text/plain": [
       "(1.5+1.2j)"
      ]
     },
     "execution_count": 16,
     "metadata": {},
     "output_type": "execute_result"
    }
   ],
   "source": [
    "# Create a `complex` object.\n",
    "\n",
    "complex(1.5, 1.2)"
   ]
  },
  {
   "cell_type": "code",
   "execution_count": 17,
   "metadata": {},
   "outputs": [
    {
     "data": {
      "text/plain": [
       "2.5"
      ]
     },
     "execution_count": 17,
     "metadata": {},
     "output_type": "execute_result"
    }
   ],
   "source": [
    "# Quotient.\n",
    "\n",
    "5 / 2\n",
    "\n",
    "# Automatic type conversion to a float."
   ]
  },
  {
   "cell_type": "code",
   "execution_count": 18,
   "metadata": {},
   "outputs": [
    {
     "data": {
      "text/plain": [
       "2"
      ]
     },
     "execution_count": 18,
     "metadata": {},
     "output_type": "execute_result"
    }
   ],
   "source": [
    "# Floored quotient.\n",
    "\n",
    "5 // 2"
   ]
  },
  {
   "cell_type": "code",
   "execution_count": 19,
   "metadata": {},
   "outputs": [
    {
     "data": {
      "text/plain": [
       "1"
      ]
     },
     "execution_count": 19,
     "metadata": {},
     "output_type": "execute_result"
    }
   ],
   "source": [
    "# Modulus (remainder).\n",
    "\n",
    "5 % 2"
   ]
  },
  {
   "cell_type": "code",
   "execution_count": 20,
   "metadata": {},
   "outputs": [
    {
     "data": {
      "text/plain": [
       "25"
      ]
     },
     "execution_count": 20,
     "metadata": {},
     "output_type": "execute_result"
    }
   ],
   "source": [
    "# Power.\n",
    "\n",
    "5 ** 2"
   ]
  },
  {
   "cell_type": "code",
   "execution_count": 21,
   "metadata": {},
   "outputs": [
    {
     "data": {
      "text/plain": [
       "25"
      ]
     },
     "execution_count": 21,
     "metadata": {},
     "output_type": "execute_result"
    }
   ],
   "source": [
    "# Power again.\n",
    "\n",
    "pow(5, 2)"
   ]
  },
  {
   "cell_type": "markdown",
   "metadata": {},
   "source": [
    "#### Operator Precedence\n",
    "\n",
    "![Operator Precedence Table for Python](images/python_operator_precedence.png)"
   ]
  },
  {
   "cell_type": "markdown",
   "metadata": {},
   "source": [
    "#### Text Sequence Type\n",
    "\n",
    "There is only one type in this category - `str`."
   ]
  },
  {
   "cell_type": "markdown",
   "metadata": {},
   "source": [
    "#### Unicode\n",
    "\n",
    "In Python 3, the `str` is meant to handle **text**. In other words, in Python 3, a `str` is a sequence of [Unicode](https://unicode-table.com/en/) characters. This allows for text which may contain elaborate international character sets and various pictograms. **Each code point may be greater than one byte.**\n",
    "\n",
    "This scenario was different in Python 2. In Python 2, a `str` was just a plain sequence of bytes. This caused some problems.\n",
    "\n",
    "Python 3 identifiers (names, function names, class names and module names) can contain Unicode characters as a matter of fact. This is because the default encoding of Python code is UTF-8. However, using non-ASCII characters for Python identifiers, although possible, is **not** recommended.\n",
    "\n",
    "If you see a `# -*- coding: utf-8 -*-` line at the very top of a Python module, than this is just a confirmation that the source code contained within that module is encoded in UTF-8.\n",
    "\n",
    "If you wish to have a plain sequence of bytes in Python 3, you can include a `b` in front of the string."
   ]
  },
  {
   "cell_type": "code",
   "execution_count": 22,
   "metadata": {},
   "outputs": [
    {
     "data": {
      "text/plain": [
       "9"
      ]
     },
     "execution_count": 22,
     "metadata": {},
     "output_type": "execute_result"
    }
   ],
   "source": [
    "sample_string = '深入 Python'\n",
    "len(sample_string)"
   ]
  },
  {
   "cell_type": "markdown",
   "metadata": {},
   "source": [
    "![Python 3 String Slotting Diagram](images/python3_string_character_slotting.png)"
   ]
  },
  {
   "cell_type": "code",
   "execution_count": 23,
   "metadata": {},
   "outputs": [
    {
     "data": {
      "text/plain": [
       "'深'"
      ]
     },
     "execution_count": 23,
     "metadata": {},
     "output_type": "execute_result"
    }
   ],
   "source": [
    "# Get the first character in the string.\n",
    "\n",
    "sample_string[0]\n",
    "\n",
    "# Why does zero (0) get the **first** character. "
   ]
  },
  {
   "cell_type": "markdown",
   "metadata": {},
   "source": [
    "Python is **zero-index based**."
   ]
  },
  {
   "cell_type": "code",
   "execution_count": 24,
   "metadata": {},
   "outputs": [
    {
     "data": {
      "text/plain": [
       "1"
      ]
     },
     "execution_count": 24,
     "metadata": {},
     "output_type": "execute_result"
    }
   ],
   "source": [
    "len(sample_string[0])"
   ]
  },
  {
   "cell_type": "code",
   "execution_count": 25,
   "metadata": {},
   "outputs": [
    {
     "name": "stdout",
     "output_type": "stream",
     "text": [
      "b'\\xe6\\xb7\\xb1'\n"
     ]
    },
    {
     "data": {
      "text/plain": [
       "3"
      ]
     },
     "execution_count": 25,
     "metadata": {},
     "output_type": "execute_result"
    }
   ],
   "source": [
    "first_character = sample_string[0].encode(\"utf8\")\n",
    "print(first_character)\n",
    "len(first_character)"
   ]
  },
  {
   "cell_type": "code",
   "execution_count": 26,
   "metadata": {},
   "outputs": [
    {
     "name": "stdout",
     "output_type": "stream",
     "text": [
      "b'\\xe5\\x85\\xa5'\n"
     ]
    },
    {
     "data": {
      "text/plain": [
       "3"
      ]
     },
     "execution_count": 26,
     "metadata": {},
     "output_type": "execute_result"
    }
   ],
   "source": [
    "second_character = sample_string[1].encode(\"utf8\")\n",
    "print(second_character)\n",
    "len(second_character)"
   ]
  },
  {
   "cell_type": "code",
   "execution_count": 27,
   "metadata": {},
   "outputs": [
    {
     "name": "stdout",
     "output_type": "stream",
     "text": [
      "b'P'\n",
      "50\n"
     ]
    },
    {
     "data": {
      "text/plain": [
       "1"
      ]
     },
     "execution_count": 27,
     "metadata": {},
     "output_type": "execute_result"
    }
   ],
   "source": [
    "fourth_character = sample_string[3].encode(\"utf8\")\n",
    "print(fourth_character)\n",
    "print(fourth_character.hex())\n",
    "len(fourth_character)\n",
    "\n",
    "## 'P' is an ASCII character as is always 1 byte long in UTF-8 encoding."
   ]
  },
  {
   "cell_type": "code",
   "execution_count": 28,
   "metadata": {},
   "outputs": [
    {
     "name": "stdout",
     "output_type": "stream",
     "text": [
      "13\n"
     ]
    }
   ],
   "source": [
    "print(len(sample_string.encode(\"utf8\")))"
   ]
  },
  {
   "cell_type": "markdown",
   "metadata": {},
   "source": [
    "![Python 3 String Memory Layout in the VM](images/python3_string_memory_layout_in_vm.png)"
   ]
  },
  {
   "cell_type": "code",
   "execution_count": 29,
   "metadata": {},
   "outputs": [
    {
     "data": {
      "text/plain": [
       "92"
      ]
     },
     "execution_count": 29,
     "metadata": {},
     "output_type": "execute_result"
    }
   ],
   "source": [
    "sys.getsizeof(sample_string)\n",
    "\n",
    "# Why?"
   ]
  },
  {
   "cell_type": "code",
   "execution_count": 30,
   "metadata": {},
   "outputs": [
    {
     "data": {
      "text/plain": [
       "['__add__', '__class__', '__contains__', '__delattr__', '__dir__', '__doc__', '__eq__', '__format__', '__ge__', '__getattribute__', '__getitem__', '__getnewargs__', '__gt__', '__hash__', '__init__', '__init_subclass__', '__iter__', '__le__', '__len__', '__lt__', '__mod__', '__mul__', '__ne__', '__new__', '__reduce__', '__reduce_ex__', '__repr__', '__rmod__', '__rmul__', '__setattr__', '__sizeof__', '__str__', '__subclasshook__', 'capitalize', 'casefold', 'center', 'count', 'encode', 'endswith', 'expandtabs', 'find', 'format', 'format_map', 'index', 'isalnum', 'isalpha', 'isdecimal', 'isdigit', 'isidentifier', 'islower', 'isnumeric', 'isprintable', 'isspace', 'istitle', 'isupper', 'join', 'ljust', 'lower', 'lstrip', 'maketrans', 'partition', 'replace', 'rfind', 'rindex', 'rjust', 'rpartition', 'rsplit', 'rstrip', 'split', 'splitlines', 'startswith', 'strip', 'swapcase', 'title', 'translate', 'upper', 'zfill']"
      ]
     },
     "execution_count": 30,
     "metadata": {},
     "output_type": "execute_result"
    }
   ],
   "source": [
    "dir(sample_string)"
   ]
  },
  {
   "cell_type": "markdown",
   "metadata": {},
   "source": [
    "Working with Unicode can be tricky to wrap your head around at first, but given the global world we live in - understanding and working with Unicode is essential. This is especially true if you are writing web applications in Python.\n",
    "\n",
    "If you want a pretty digestable read on Python 3 and other Unicode encodings, check out [this](http://www.diveintopython3.net/strings.html) article."
   ]
  },
  {
   "cell_type": "code",
   "execution_count": 31,
   "metadata": {},
   "outputs": [
    {
     "name": "stdout",
     "output_type": "stream",
     "text": [
      "b'SME'\n"
     ]
    }
   ],
   "source": [
    "plain_byte_string = b'SME'\n",
    "print(plain_byte_string)"
   ]
  },
  {
   "cell_type": "code",
   "execution_count": 32,
   "metadata": {
    "collapsed": true
   },
   "outputs": [],
   "source": [
    "#another_plain_byte_string = b'深入 Python'\n",
    "#print(another_plain_byte_string)\n",
    "\n",
    "# Why will this not work?"
   ]
  },
  {
   "cell_type": "code",
   "execution_count": 33,
   "metadata": {},
   "outputs": [
    {
     "data": {
      "text/plain": [
       "<class 'str'>"
      ]
     },
     "execution_count": 33,
     "metadata": {},
     "output_type": "execute_result"
    }
   ],
   "source": [
    "type(sample_string)"
   ]
  },
  {
   "cell_type": "code",
   "execution_count": 34,
   "metadata": {},
   "outputs": [
    {
     "data": {
      "text/plain": [
       "<class 'bytes'>"
      ]
     },
     "execution_count": 34,
     "metadata": {},
     "output_type": "execute_result"
    }
   ],
   "source": [
    "type(plain_byte_string)"
   ]
  },
  {
   "cell_type": "markdown",
   "metadata": {},
   "source": [
    "#### String Operations"
   ]
  },
  {
   "cell_type": "code",
   "execution_count": 35,
   "metadata": {
    "collapsed": true
   },
   "outputs": [],
   "source": [
    "hello_string = \"Hello\""
   ]
  },
  {
   "cell_type": "markdown",
   "metadata": {},
   "source": [
    "![Tagging the Initial String Object](images/tagging_string_object.png)"
   ]
  },
  {
   "cell_type": "code",
   "execution_count": 36,
   "metadata": {},
   "outputs": [
    {
     "data": {
      "text/plain": [
       "'HelloHelloHelloHelloHelloHelloHelloHelloHelloHello'"
      ]
     },
     "execution_count": 36,
     "metadata": {},
     "output_type": "execute_result"
    }
   ],
   "source": [
    "hello_string = \"Hello\"\n",
    "hello_string * 10"
   ]
  },
  {
   "cell_type": "code",
   "execution_count": 37,
   "metadata": {},
   "outputs": [
    {
     "data": {
      "text/plain": [
       "'Hello World'"
      ]
     },
     "execution_count": 37,
     "metadata": {},
     "output_type": "execute_result"
    }
   ],
   "source": [
    "hello_string = \"Hello\"\n",
    "world_string = \"World\"\n",
    "hello_string + \" \" + world_string"
   ]
  },
  {
   "cell_type": "code",
   "execution_count": 38,
   "metadata": {
    "collapsed": true
   },
   "outputs": [],
   "source": [
    "#hello_string[0] = \"J\"\n",
    "\n",
    "# Why will this not work? Something called immutability. Hold that thought..."
   ]
  },
  {
   "cell_type": "code",
   "execution_count": 39,
   "metadata": {},
   "outputs": [
    {
     "data": {
      "text/plain": [
       "'Hel'"
      ]
     },
     "execution_count": 39,
     "metadata": {},
     "output_type": "execute_result"
    }
   ],
   "source": [
    "hello_string = \"Hello\"\n",
    "hello_string[0:3] # Slice."
   ]
  },
  {
   "cell_type": "markdown",
   "metadata": {},
   "source": [
    "![String Positive and Negative Index](images/string_positive_and_negative_index.png)"
   ]
  },
  {
   "cell_type": "code",
   "execution_count": 40,
   "metadata": {},
   "outputs": [
    {
     "data": {
      "text/plain": [
       "'Hel'"
      ]
     },
     "execution_count": 40,
     "metadata": {},
     "output_type": "execute_result"
    }
   ],
   "source": [
    "hello_string = \"Hello\"\n",
    "hello_string[:3] # Slice.\n",
    "\n",
    "# There is something interesting going on here...why did it not print the second 'l' character.\n",
    "\n",
    "# Python slice endpoints are excluded."
   ]
  },
  {
   "cell_type": "code",
   "execution_count": 41,
   "metadata": {},
   "outputs": [
    {
     "data": {
      "text/plain": [
       "'e'"
      ]
     },
     "execution_count": 41,
     "metadata": {},
     "output_type": "execute_result"
    }
   ],
   "source": [
    "hello_string = \"Hello\"\n",
    "hello_string[1:2] # Slice."
   ]
  },
  {
   "cell_type": "code",
   "execution_count": 42,
   "metadata": {},
   "outputs": [
    {
     "data": {
      "text/plain": [
       "'o'"
      ]
     },
     "execution_count": 42,
     "metadata": {},
     "output_type": "execute_result"
    }
   ],
   "source": [
    "hello_string = \"Hello\"\n",
    "hello_string[-1] # Indexing."
   ]
  },
  {
   "cell_type": "code",
   "execution_count": 43,
   "metadata": {},
   "outputs": [
    {
     "data": {
      "text/plain": [
       "'l'"
      ]
     },
     "execution_count": 43,
     "metadata": {},
     "output_type": "execute_result"
    }
   ],
   "source": [
    "hello_string = \"Hello\"\n",
    "hello_string[-2] # Indexing."
   ]
  },
  {
   "cell_type": "code",
   "execution_count": 44,
   "metadata": {},
   "outputs": [
    {
     "data": {
      "text/plain": [
       "'H'"
      ]
     },
     "execution_count": 44,
     "metadata": {},
     "output_type": "execute_result"
    }
   ],
   "source": [
    "hello_string = \"Hello\"\n",
    "hello_string[-5] # Indexing."
   ]
  },
  {
   "cell_type": "code",
   "execution_count": 45,
   "metadata": {
    "collapsed": true
   },
   "outputs": [],
   "source": [
    "# hello_string = \"Hello\"\n",
    "# hello_string[-6] # Indexing.\n",
    "\n",
    "# This will not work because it is an out-of-bounds index (IndexError)."
   ]
  },
  {
   "cell_type": "code",
   "execution_count": 46,
   "metadata": {
    "collapsed": true
   },
   "outputs": [],
   "source": [
    "# hello_string = \"Hello\"\n",
    "# hello_string[5] # Indexing.\n",
    "\n",
    "# This will not work either for the same reason."
   ]
  },
  {
   "cell_type": "code",
   "execution_count": 47,
   "metadata": {},
   "outputs": [
    {
     "data": {
      "text/plain": [
       "'He'"
      ]
     },
     "execution_count": 47,
     "metadata": {},
     "output_type": "execute_result"
    }
   ],
   "source": [
    "hello_string = \"Hello\"\n",
    "hello_string[:-3] # Slice."
   ]
  },
  {
   "cell_type": "code",
   "execution_count": 48,
   "metadata": {
    "collapsed": true
   },
   "outputs": [],
   "source": [
    "hello_string = \"SME is great!\"\n",
    "\n",
    "# What is going on here?"
   ]
  },
  {
   "cell_type": "code",
   "execution_count": 49,
   "metadata": {},
   "outputs": [
    {
     "name": "stdout",
     "output_type": "stream",
     "text": [
      "SME is great!\n"
     ]
    }
   ],
   "source": [
    "print(hello_string)"
   ]
  },
  {
   "cell_type": "markdown",
   "metadata": {},
   "source": [
    "![Moving a Tag from One String Object to Another](images/moving_a_tag_on_a_string_object_to_another.png)"
   ]
  },
  {
   "cell_type": "markdown",
   "metadata": {},
   "source": [
    "#### Checking Types"
   ]
  },
  {
   "cell_type": "markdown",
   "metadata": {},
   "source": [
    "The type of an object can be returned by using the `type()` built-in function."
   ]
  },
  {
   "cell_type": "code",
   "execution_count": 50,
   "metadata": {},
   "outputs": [
    {
     "data": {
      "text/plain": [
       "<class 'int'>"
      ]
     },
     "execution_count": 50,
     "metadata": {},
     "output_type": "execute_result"
    }
   ],
   "source": [
    "type(1)"
   ]
  },
  {
   "cell_type": "code",
   "execution_count": 51,
   "metadata": {},
   "outputs": [
    {
     "data": {
      "text/plain": [
       "<class 'float'>"
      ]
     },
     "execution_count": 51,
     "metadata": {},
     "output_type": "execute_result"
    }
   ],
   "source": [
    "type(3.14)"
   ]
  },
  {
   "cell_type": "code",
   "execution_count": 52,
   "metadata": {},
   "outputs": [
    {
     "data": {
      "text/plain": [
       "<class 'complex'>"
      ]
     },
     "execution_count": 52,
     "metadata": {},
     "output_type": "execute_result"
    }
   ],
   "source": [
    "type(4j)"
   ]
  },
  {
   "cell_type": "code",
   "execution_count": 53,
   "metadata": {},
   "outputs": [
    {
     "data": {
      "text/plain": [
       "<class 'complex'>"
      ]
     },
     "execution_count": 53,
     "metadata": {},
     "output_type": "execute_result"
    }
   ],
   "source": [
    "type(3.0+4.0j)"
   ]
  },
  {
   "cell_type": "code",
   "execution_count": 54,
   "metadata": {},
   "outputs": [
    {
     "data": {
      "text/plain": [
       "<class 'tuple'>"
      ]
     },
     "execution_count": 54,
     "metadata": {},
     "output_type": "execute_result"
    }
   ],
   "source": [
    "type((3,'string',))"
   ]
  },
  {
   "cell_type": "code",
   "execution_count": 55,
   "metadata": {},
   "outputs": [
    {
     "data": {
      "text/plain": [
       "<class 'dict'>"
      ]
     },
     "execution_count": 55,
     "metadata": {},
     "output_type": "execute_result"
    }
   ],
   "source": [
    "type({3: '3', 'four': 4})"
   ]
  },
  {
   "cell_type": "code",
   "execution_count": 56,
   "metadata": {},
   "outputs": [
    {
     "data": {
      "text/plain": [
       "<class 'list'>"
      ]
     },
     "execution_count": 56,
     "metadata": {},
     "output_type": "execute_result"
    }
   ],
   "source": [
    "type(list())"
   ]
  },
  {
   "cell_type": "code",
   "execution_count": 57,
   "metadata": {},
   "outputs": [
    {
     "data": {
      "text/plain": [
       "<class 'type'>"
      ]
     },
     "execution_count": 57,
     "metadata": {},
     "output_type": "execute_result"
    }
   ],
   "source": [
    "type(list)\n",
    "\n",
    "# Why?"
   ]
  },
  {
   "cell_type": "markdown",
   "metadata": {},
   "source": [
    "This is checking the type of the *class* list (as oppossed to a constructed list object). Therefore, even *classes* are objects in Python. This is important for a concept known as [metaprogramming](http://python-3-patterns-idioms-test.readthedocs.io/en/latest/Metaprogramming.html)."
   ]
  },
  {
   "cell_type": "markdown",
   "metadata": {},
   "source": [
    "There is a difference between the **class** and an **instance of the class**.\n",
    "\n",
    "![list Class Definition and list Object](images/list_class_definition_and_list_object.png)\n",
    "\n",
    "This is just an example. The actual `list` built-in is implemented in C. The source is [here](https://github.com/python/cpython/blob/master/Objects/listobject.c)."
   ]
  },
  {
   "cell_type": "code",
   "execution_count": 58,
   "metadata": {},
   "outputs": [
    {
     "data": {
      "text/plain": [
       "<class 'bool'>"
      ]
     },
     "execution_count": 58,
     "metadata": {},
     "output_type": "execute_result"
    }
   ],
   "source": [
    "type(bool(1))"
   ]
  },
  {
   "cell_type": "markdown",
   "metadata": {},
   "source": [
    "#### Boolean Types\n",
    "\n",
    "There are two boolean types - `True` and `False`."
   ]
  },
  {
   "cell_type": "code",
   "execution_count": 59,
   "metadata": {},
   "outputs": [
    {
     "data": {
      "text/plain": [
       "<class 'bool'>"
      ]
     },
     "execution_count": 59,
     "metadata": {},
     "output_type": "execute_result"
    }
   ],
   "source": [
    "type(True)"
   ]
  },
  {
   "cell_type": "code",
   "execution_count": 60,
   "metadata": {},
   "outputs": [
    {
     "data": {
      "text/plain": [
       "<class 'bool'>"
      ]
     },
     "execution_count": 60,
     "metadata": {},
     "output_type": "execute_result"
    }
   ],
   "source": [
    "type(False)"
   ]
  },
  {
   "cell_type": "markdown",
   "metadata": {},
   "source": [
    "#### Boolean Operations\n",
    "\n",
    "There are three boolean operations - `or`, `and` and `not`.\n",
    "\n",
    "![Truth Tables for Python Boolean Operations](images/truth_tables_for_python_boolean_operations.png)"
   ]
  },
  {
   "cell_type": "markdown",
   "metadata": {},
   "source": [
    "#### What is considered `False` in Python?"
   ]
  },
  {
   "cell_type": "code",
   "execution_count": 61,
   "metadata": {},
   "outputs": [
    {
     "data": {
      "text/plain": [
       "True"
      ]
     },
     "execution_count": 61,
     "metadata": {},
     "output_type": "execute_result"
    }
   ],
   "source": [
    "None==False\n",
    "False==False\n",
    "0==False\n",
    "0.0==False\n",
    "0j==False\n",
    "0+0j==False"
   ]
  },
  {
   "cell_type": "code",
   "execution_count": 62,
   "metadata": {},
   "outputs": [
    {
     "data": {
      "text/plain": [
       "True"
      ]
     },
     "execution_count": 62,
     "metadata": {},
     "output_type": "execute_result"
    }
   ],
   "source": [
    "bool('')==False\n",
    "bool(())==False\n",
    "bool([])==False\n",
    "bool({})==False\n",
    "bool(set())==False\n",
    "bool(range(0))==False"
   ]
  },
  {
   "cell_type": "markdown",
   "metadata": {},
   "source": [
    "#### Sequence Types\n",
    "\n",
    "**Sequence types** are `list`, `tuple` and `range`."
   ]
  },
  {
   "cell_type": "code",
   "execution_count": 63,
   "metadata": {},
   "outputs": [
    {
     "data": {
      "text/plain": [
       "[1, 2, 3, 'cat']"
      ]
     },
     "execution_count": 63,
     "metadata": {},
     "output_type": "execute_result"
    }
   ],
   "source": [
    "[1, 2, 3, \"cat\"] # List."
   ]
  },
  {
   "cell_type": "code",
   "execution_count": 64,
   "metadata": {},
   "outputs": [
    {
     "data": {
      "text/plain": [
       "[1.0, 'Hello', 4]"
      ]
     },
     "execution_count": 64,
     "metadata": {},
     "output_type": "execute_result"
    }
   ],
   "source": [
    "[1.0, \"Hello\", 4] # List."
   ]
  },
  {
   "cell_type": "code",
   "execution_count": 65,
   "metadata": {},
   "outputs": [
    {
     "data": {
      "text/plain": [
       "[1, 2, 1]"
      ]
     },
     "execution_count": 65,
     "metadata": {},
     "output_type": "execute_result"
    }
   ],
   "source": [
    "coordinate_x = 1\n",
    "coordinate_y = 2\n",
    "coordinate_z = 1\n",
    "[coordinate_x, coordinate_y, coordinate_z] # List."
   ]
  },
  {
   "cell_type": "code",
   "execution_count": 66,
   "metadata": {},
   "outputs": [
    {
     "name": "stdout",
     "output_type": "stream",
     "text": [
      "[[1, 1, 1], [1, 2, 1], [0, 0, 1]]\n"
     ]
    }
   ],
   "source": [
    "square_matrix = [[1, 1, 1], [1, 2, 1], [0, 0, 1]] # Two-dimensional array (3x3 matrix in this example)\n",
    "print(square_matrix)"
   ]
  },
  {
   "cell_type": "code",
   "execution_count": 67,
   "metadata": {},
   "outputs": [
    {
     "data": {
      "text/plain": [
       "2"
      ]
     },
     "execution_count": 67,
     "metadata": {},
     "output_type": "execute_result"
    }
   ],
   "source": [
    "square_matrix[1][1]"
   ]
  },
  {
   "cell_type": "markdown",
   "metadata": {},
   "source": [
    "For small arrays and matrices, using built-in Python lists is acceptable. However, for performance critical array operations and memory efficiency for large arrays, consider using [NumPy](http://www.numpy.org/)."
   ]
  },
  {
   "cell_type": "code",
   "execution_count": 68,
   "metadata": {},
   "outputs": [
    {
     "data": {
      "text/plain": [
       "[1, 2, 3, 1, 2, 3]"
      ]
     },
     "execution_count": 68,
     "metadata": {},
     "output_type": "execute_result"
    }
   ],
   "source": [
    "[1, 2, 3] * 2"
   ]
  },
  {
   "cell_type": "code",
   "execution_count": 69,
   "metadata": {},
   "outputs": [
    {
     "data": {
      "text/plain": [
       "[6, 10, 60]"
      ]
     },
     "execution_count": 69,
     "metadata": {},
     "output_type": "execute_result"
    }
   ],
   "source": [
    "sample_slicing_list = [6, 10, 60, 45, 42]\n",
    "sample_slicing_list[:3]"
   ]
  },
  {
   "cell_type": "code",
   "execution_count": 70,
   "metadata": {},
   "outputs": [
    {
     "data": {
      "text/plain": [
       "42"
      ]
     },
     "execution_count": 70,
     "metadata": {},
     "output_type": "execute_result"
    }
   ],
   "source": [
    "sample_slicing_list[-1] # Works the same as str slicing."
   ]
  },
  {
   "cell_type": "code",
   "execution_count": 71,
   "metadata": {},
   "outputs": [
    {
     "data": {
      "text/plain": [
       "(1, 2, 3, 'cat')"
      ]
     },
     "execution_count": 71,
     "metadata": {},
     "output_type": "execute_result"
    }
   ],
   "source": [
    "(1, 2, 3, \"cat\") # Tuple."
   ]
  },
  {
   "cell_type": "code",
   "execution_count": 72,
   "metadata": {},
   "outputs": [
    {
     "data": {
      "text/plain": [
       "(1.0, 'Hello', 4)"
      ]
     },
     "execution_count": 72,
     "metadata": {},
     "output_type": "execute_result"
    }
   ],
   "source": [
    "(1.0, \"Hello\", 4) # Tuple."
   ]
  },
  {
   "cell_type": "code",
   "execution_count": 73,
   "metadata": {},
   "outputs": [
    {
     "data": {
      "text/plain": [
       "(1, 2, 1)"
      ]
     },
     "execution_count": 73,
     "metadata": {},
     "output_type": "execute_result"
    }
   ],
   "source": [
    "coordinate_x = 1\n",
    "coordinate_y = 2\n",
    "coordinate_z = 1\n",
    "(coordinate_x, coordinate_y, coordinate_z) # Tuple."
   ]
  },
  {
   "cell_type": "code",
   "execution_count": 74,
   "metadata": {},
   "outputs": [
    {
     "data": {
      "text/plain": [
       "(1, 2, 3, 4)"
      ]
     },
     "execution_count": 74,
     "metadata": {},
     "output_type": "execute_result"
    }
   ],
   "source": [
    "(1, 2, 3, 4,) # Tuple, but note the trailing comma at the end. This comma is optional."
   ]
  },
  {
   "cell_type": "code",
   "execution_count": 75,
   "metadata": {},
   "outputs": [
    {
     "data": {
      "text/plain": [
       "(1,)"
      ]
     },
     "execution_count": 75,
     "metadata": {},
     "output_type": "execute_result"
    }
   ],
   "source": [
    "(1,) # Tuple, but this trailing comma is mandatory. Without the trailing comma, Python will just think it is an int."
   ]
  },
  {
   "cell_type": "code",
   "execution_count": 76,
   "metadata": {},
   "outputs": [
    {
     "name": "stdout",
     "output_type": "stream",
     "text": [
      "1\n"
     ]
    },
    {
     "data": {
      "text/plain": [
       "<class 'int'>"
      ]
     },
     "execution_count": 76,
     "metadata": {},
     "output_type": "execute_result"
    }
   ],
   "source": [
    "print((1))\n",
    "type((1))"
   ]
  },
  {
   "cell_type": "code",
   "execution_count": 77,
   "metadata": {},
   "outputs": [
    {
     "data": {
      "text/plain": [
       "(1, 2, 3, 1, 2, 3)"
      ]
     },
     "execution_count": 77,
     "metadata": {},
     "output_type": "execute_result"
    }
   ],
   "source": [
    "(1, 2, 3) * 2"
   ]
  },
  {
   "cell_type": "code",
   "execution_count": 78,
   "metadata": {},
   "outputs": [
    {
     "data": {
      "text/plain": [
       "6"
      ]
     },
     "execution_count": 78,
     "metadata": {},
     "output_type": "execute_result"
    }
   ],
   "source": [
    "sample_slicing_tuple = (6, 10, 60, 45, 42)\n",
    "sample_slicing_tuple[0]"
   ]
  },
  {
   "cell_type": "code",
   "execution_count": 79,
   "metadata": {},
   "outputs": [
    {
     "data": {
      "text/plain": [
       "(60, 45, 42)"
      ]
     },
     "execution_count": 79,
     "metadata": {},
     "output_type": "execute_result"
    }
   ],
   "source": [
    "sample_slicing_tuple = (6, 10, 60, 45, 42)\n",
    "sample_slicing_tuple[2:5] # Works the same as str slicing."
   ]
  },
  {
   "cell_type": "code",
   "execution_count": 80,
   "metadata": {},
   "outputs": [
    {
     "data": {
      "text/plain": [
       "range(0, 10)"
      ]
     },
     "execution_count": 80,
     "metadata": {},
     "output_type": "execute_result"
    }
   ],
   "source": [
    "range(10) # Range."
   ]
  },
  {
   "cell_type": "code",
   "execution_count": 81,
   "metadata": {},
   "outputs": [
    {
     "data": {
      "text/plain": [
       "[0, 1, 2, 3, 4, 5, 6, 7, 8, 9]"
      ]
     },
     "execution_count": 81,
     "metadata": {},
     "output_type": "execute_result"
    }
   ],
   "source": [
    "list(range(10)) # Build a list."
   ]
  },
  {
   "cell_type": "code",
   "execution_count": 82,
   "metadata": {},
   "outputs": [
    {
     "data": {
      "text/plain": [
       "[3, 4, 5, 6, 7, 8, 9]"
      ]
     },
     "execution_count": 82,
     "metadata": {},
     "output_type": "execute_result"
    }
   ],
   "source": [
    "list(range(3,10))\n",
    "\n",
    "# Like slices, the endpoint on a range is ignored."
   ]
  },
  {
   "cell_type": "code",
   "execution_count": 83,
   "metadata": {},
   "outputs": [
    {
     "data": {
      "text/plain": [
       "[-1, 0, 1, 2]"
      ]
     },
     "execution_count": 83,
     "metadata": {},
     "output_type": "execute_result"
    }
   ],
   "source": [
    "list(range(-1,3)) # With negative start."
   ]
  },
  {
   "cell_type": "code",
   "execution_count": 84,
   "metadata": {},
   "outputs": [
    {
     "data": {
      "text/plain": [
       "[1, 3, 5, 7, 9]"
      ]
     },
     "execution_count": 84,
     "metadata": {},
     "output_type": "execute_result"
    }
   ],
   "source": [
    "list(range(1,10,2)) # With step size."
   ]
  },
  {
   "cell_type": "markdown",
   "metadata": {},
   "source": [
    "#### Lists versus Tuples\n",
    "\n",
    "* Lists are often used to store homogenous collections (e.g. arrays and matrices).\n",
    "* Tuples are also good when an immutable set of homogenous data is needed (e.g. Cartesian coordinates).\n",
    "* Tuples generally perform faster than lists because they are immutable.\n",
    "* Some types of tuples can be used as dictionary (`dict`) keys."
   ]
  },
  {
   "cell_type": "markdown",
   "metadata": {},
   "source": [
    "#### Mapping Types\n",
    "\n",
    "There is only one type in this category - `dict`.\n",
    "\n",
    "This data type consists of keys and values."
   ]
  },
  {
   "cell_type": "code",
   "execution_count": 85,
   "metadata": {},
   "outputs": [
    {
     "data": {
      "text/plain": [
       "{1: 'one', 2: 'two', 3: 'three'}"
      ]
     },
     "execution_count": 85,
     "metadata": {},
     "output_type": "execute_result"
    }
   ],
   "source": [
    "{1: 'one', 2: 'two', 3: 'three'}"
   ]
  },
  {
   "cell_type": "code",
   "execution_count": 86,
   "metadata": {},
   "outputs": [
    {
     "data": {
      "text/plain": [
       "{'one': 1, 'two': 2, 'three': 3}"
      ]
     },
     "execution_count": 86,
     "metadata": {},
     "output_type": "execute_result"
    }
   ],
   "source": [
    "{'one': 1, 'two': 2, 'three': 3}"
   ]
  },
  {
   "cell_type": "code",
   "execution_count": 87,
   "metadata": {},
   "outputs": [
    {
     "data": {
      "text/plain": [
       "-3286363935915723074"
      ]
     },
     "execution_count": 87,
     "metadata": {},
     "output_type": "execute_result"
    }
   ],
   "source": [
    "hash('one')"
   ]
  },
  {
   "cell_type": "code",
   "execution_count": 88,
   "metadata": {
    "collapsed": true
   },
   "outputs": [],
   "source": [
    "# hash({})\n",
    "\n",
    "# This will throw a TypeError because this is not a hashable value. Non-hashable values cannot be used for dict keys."
   ]
  },
  {
   "cell_type": "code",
   "execution_count": 89,
   "metadata": {},
   "outputs": [
    {
     "data": {
      "text/plain": [
       "{'one': {}, 'two': {'three': 3, 4: 'four'}}"
      ]
     },
     "execution_count": 89,
     "metadata": {},
     "output_type": "execute_result"
    }
   ],
   "source": [
    "{'one': {}, 'two': {'three': 3, 4: 'four'}}\n",
    "\n",
    "# However, there is not requirement that dict values be hashable."
   ]
  },
  {
   "cell_type": "code",
   "execution_count": 90,
   "metadata": {},
   "outputs": [
    {
     "name": "stdout",
     "output_type": "stream",
     "text": [
      "Keys: ['one', 'two', 'three']\n"
     ]
    }
   ],
   "source": [
    "sample_dict = {'one': 1, 'two': 2, 'three': 3}\n",
    "print(\"Keys: \" + str(list(sample_dict.keys())))"
   ]
  },
  {
   "cell_type": "code",
   "execution_count": 91,
   "metadata": {},
   "outputs": [
    {
     "name": "stdout",
     "output_type": "stream",
     "text": [
      "Values: [1, 2, 3]\n"
     ]
    }
   ],
   "source": [
    "sample_dict = {'one': 1, 'two': 2, 'three': 3}\n",
    "print(\"Values: \" + str(list(sample_dict.values())))"
   ]
  },
  {
   "cell_type": "code",
   "execution_count": 92,
   "metadata": {
    "collapsed": true
   },
   "outputs": [],
   "source": [
    "# sample_dict = {'one': 1, 'two': 2, 'three': 3}\n",
    "# sample_dict[0]\n",
    "\n",
    "# This will throw a key error because '0' is not one of the keys in the sample_dict."
   ]
  },
  {
   "cell_type": "code",
   "execution_count": 93,
   "metadata": {},
   "outputs": [
    {
     "data": {
      "text/plain": [
       "1"
      ]
     },
     "execution_count": 93,
     "metadata": {},
     "output_type": "execute_result"
    }
   ],
   "source": [
    "sample_dict = {'one': 1, 'two': 2, 'three': 3}\n",
    "sample_dict['one'] # Index by key."
   ]
  },
  {
   "cell_type": "markdown",
   "metadata": {},
   "source": [
    "#### Immutability\n",
    "\n",
    "**Immutability** means that the state of the object cannot be modified after it is created.\n",
    "\n",
    "These data types are immutable in Python.\n",
    "\n",
    "| Type      | Description                 |\n",
    "|-----------|-----------------------------|\n",
    "| `int`     | Integer                     |\n",
    "| `float`   | Floating point number       |\n",
    "| `complex` | Complex number              |\n",
    "| `str`     | String                      |\n",
    "| `bool`    | Boolean, subtype of Integer |\n",
    "| `tuple`   | Tuple                       |"
   ]
  },
  {
   "cell_type": "code",
   "execution_count": 154,
   "metadata": {
    "collapsed": true
   },
   "outputs": [],
   "source": [
    "first_int = 3\n",
    "first_int = 4\n",
    "\n",
    "# What is actually happening here?\n",
    "\n",
    "# Two seperate int objects are being created - an int object \"containing\" 3 and an int object \"containing\" 4\n",
    "# and the name \"first_int\" is just being moved around.\n",
    "\n",
    "# We will look at this visually later."
   ]
  },
  {
   "cell_type": "code",
   "execution_count": 155,
   "metadata": {},
   "outputs": [
    {
     "data": {
      "text/plain": [
       "'S'"
      ]
     },
     "execution_count": 155,
     "metadata": {},
     "output_type": "execute_result"
    }
   ],
   "source": [
    "fixed_string = \"SME 112\"\n",
    "fixed_string[0] # Indexing."
   ]
  },
  {
   "cell_type": "code",
   "execution_count": 1,
   "metadata": {
    "collapsed": true
   },
   "outputs": [],
   "source": [
    "# fixed_string = \"SME 112\"\n",
    "# fixed_string[0] = 'L'\n",
    "\n",
    "# This will not work. Python will throw a TypeError. str objects are immutable."
   ]
  },
  {
   "cell_type": "code",
   "execution_count": 159,
   "metadata": {},
   "outputs": [
    {
     "name": "stdout",
     "output_type": "stream",
     "text": [
      "SME 430\n"
     ]
    }
   ],
   "source": [
    "fixed_string = \"SME 112\"\n",
    "fixed_string = \"SME 430\"\n",
    "print(fixed_string)\n",
    "\n",
    "# What is happening here? The same as the int example above."
   ]
  },
  {
   "cell_type": "code",
   "execution_count": 161,
   "metadata": {},
   "outputs": [
    {
     "data": {
      "text/plain": [
       "3"
      ]
     },
     "execution_count": 161,
     "metadata": {},
     "output_type": "execute_result"
    }
   ],
   "source": [
    "fixed_tuple = (1, 2, 3)\n",
    "fixed_tuple[2] # Indexing."
   ]
  },
  {
   "cell_type": "code",
   "execution_count": null,
   "metadata": {
    "collapsed": true
   },
   "outputs": [],
   "source": [
    "# fixed_tuple = (1, 2, 3)\n",
    "# fixed_tuple[2] = 42\n",
    "\n",
    "# This will not work. Python will throw a TypeError. tuple object are immutable."
   ]
  },
  {
   "cell_type": "markdown",
   "metadata": {},
   "source": [
    "#### Mutability\n",
    "\n",
    "**Mutability** is the opposite of immutability.\n",
    "\n",
    "These data types are mutable in Python.\n",
    "\n",
    "| Type      | Description                 |\n",
    "|-----------|-----------------------------|\n",
    "| `list`    | List                        |\n",
    "| `dict`    | Dictionary                  |"
   ]
  },
  {
   "cell_type": "code",
   "execution_count": 162,
   "metadata": {
    "collapsed": true
   },
   "outputs": [],
   "source": [
    "sample_list_example = [1, 2, 3, 4]\n",
    "sample_list_example = [2, 4, 6, 8]\n",
    "\n",
    "# What is happening here? This really has nothing to do with immutability or mutability, the same effects are\n",
    "# seen here as the int or str examples shown in the previous section."
   ]
  },
  {
   "cell_type": "code",
   "execution_count": 164,
   "metadata": {},
   "outputs": [
    {
     "name": "stdout",
     "output_type": "stream",
     "text": [
      "List before modification:  [1, 2, 3, 4]\n",
      "List after modification:  [42, 2, 3, 4]\n"
     ]
    }
   ],
   "source": [
    "# Changing a value in a list.\n",
    "\n",
    "sample_list_example = [1, 2, 3, 4]\n",
    "print(\"List before modification: \", sample_list_example)\n",
    "sample_list_example[0] = 42\n",
    "print(\"List after modification: \", sample_list_example)"
   ]
  },
  {
   "cell_type": "code",
   "execution_count": 165,
   "metadata": {},
   "outputs": [
    {
     "name": "stdout",
     "output_type": "stream",
     "text": [
      "List after modification:  [1, 2, 2, 3, 4]\n"
     ]
    }
   ],
   "source": [
    "# Remove the first matching value in a list.\n",
    "\n",
    "sample_list_example = [1, 2, 2, 2, 3, 4]\n",
    "sample_list_example.remove(2)\n",
    "print(\"List after modification: \", sample_list_example)"
   ]
  },
  {
   "cell_type": "code",
   "execution_count": 166,
   "metadata": {},
   "outputs": [
    {
     "name": "stdout",
     "output_type": "stream",
     "text": [
      "List after modification:  [2, 2, 2, 3, 4]\n"
     ]
    }
   ],
   "source": [
    "# Remove the item in a list at the index specified.\n",
    "\n",
    "sample_list_example = [1, 2, 2, 2, 3, 4]\n",
    "del sample_list_example[0]\n",
    "print(\"List after modification: \", sample_list_example)"
   ]
  },
  {
   "cell_type": "code",
   "execution_count": 167,
   "metadata": {},
   "outputs": [
    {
     "name": "stdout",
     "output_type": "stream",
     "text": [
      "List after modification:  [1, 2, 2, 2, 4]\n",
      "3\n"
     ]
    }
   ],
   "source": [
    "# Pop an item off of the list at a specific index and return it.\n",
    "\n",
    "sample_list_example = [1, 2, 2, 2, 3, 4]\n",
    "popped_list_item = sample_list_example.pop(4)\n",
    "print(\"List after modification: \", sample_list_example)\n",
    "print(popped_list_item)"
   ]
  },
  {
   "cell_type": "code",
   "execution_count": 168,
   "metadata": {
    "collapsed": true
   },
   "outputs": [],
   "source": [
    "sample_dict_example = {'one': 1, 'two': 2, 'three': 3}\n",
    "sample_dict_example = {'four': 4, 'five': 5, 'six': 6}\n",
    "\n",
    "# What is happening here? This really has nothing to do with immutability or mutability, the same effects are\n",
    "# seen here as the int or str examples shown in the previous section."
   ]
  },
  {
   "cell_type": "code",
   "execution_count": 169,
   "metadata": {},
   "outputs": [
    {
     "name": "stdout",
     "output_type": "stream",
     "text": [
      "Dictionary before modification:  {'one': 1, 'two': 2, 'three': 3}\n",
      "Dictionary after modification:  {'one': 'one value', 'two': 2, 'three': 3}\n"
     ]
    }
   ],
   "source": [
    "# Changing a value for one of the keys in the dict.\n",
    "\n",
    "sample_dict_example = {'one': 1, 'two': 2, 'three': 3}\n",
    "print(\"Dictionary before modification: \", sample_dict_example)\n",
    "sample_dict_example['one'] = 'one value'\n",
    "print(\"Dictionary after modification: \", sample_dict_example)"
   ]
  },
  {
   "cell_type": "code",
   "execution_count": 170,
   "metadata": {},
   "outputs": [
    {
     "name": "stdout",
     "output_type": "stream",
     "text": [
      "Dictionary before modification:  {'one': 1, 'two': 2, 'three': 3}\n",
      "Dictionary after modification:  {'two': 2, 'three': 3}\n"
     ]
    }
   ],
   "source": [
    "# Remove key/value pair from a dict.\n",
    "\n",
    "sample_dict_example = {'one': 1, 'two': 2, 'three': 3}\n",
    "print(\"Dictionary before modification: \", sample_dict_example)\n",
    "del sample_dict_example['one']\n",
    "print(\"Dictionary after modification: \", sample_dict_example)"
   ]
  },
  {
   "cell_type": "code",
   "execution_count": 172,
   "metadata": {},
   "outputs": [
    {
     "name": "stdout",
     "output_type": "stream",
     "text": [
      "Dictionary before changing the value of the 'one' key:  {'one': 1, 'two': 2, 'three': 3}\n",
      "Dictionary after changing the value of the 'one' key:  {'one': 42, 'two': 2, 'three': 3}\n",
      "Dictionary after 'changing' the key name:  {'two': 2, 'three': 3, 'forty-two': 42}\n"
     ]
    }
   ],
   "source": [
    "# Can you change the name of a key without losing the original value?\n",
    "\n",
    "# Yes!\n",
    "\n",
    "sample_dict_example = {'one': 1, 'two': 2, 'three': 3}\n",
    "print(\"Dictionary before changing the value of the 'one' key: \", sample_dict_example)\n",
    "sample_dict_example['one'] = 42\n",
    "print(\"Dictionary after changing the value of the 'one' key: \", sample_dict_example)\n",
    "# Pop the value of the 'one' key from the dict (which removes the key/value pair) and add a new\n",
    "# key called 'forty-two' which will hold the original 42 value associated with the popped key.\n",
    "sample_dict_example['forty-two'] = sample_dict_example.pop('one')\n",
    "print(\"Dictionary after 'changing' the key name: \", sample_dict_example)"
   ]
  },
  {
   "cell_type": "markdown",
   "metadata": {},
   "source": [
    "**Note** There are some \"less commonly used\" built-in types that are not covered here. Read about these types [here](https://docs.python.org/3/library/stdtypes.html)."
   ]
  },
  {
   "cell_type": "markdown",
   "metadata": {},
   "source": [
    "### Number Systems\n",
    "\n",
    "In computer science, there are several popular number systems used for a variety of different things.\n",
    "\n",
    "You are already familiar with the **decimal** number system. This is a base 10 number system.\n",
    "\n",
    "The two other common number systems are **hexadecimal** (base 16) and **binary** (base 2).\n",
    "\n",
    "Here is how hexadecimal relates to the decimal number system."
   ]
  },
  {
   "cell_type": "markdown",
   "metadata": {},
   "source": [
    "![Hexadecimal Number System Table](images/hexadecimal_number_system_table.png)"
   ]
  },
  {
   "cell_type": "markdown",
   "metadata": {},
   "source": [
    "The hexadecimal system is very commonly used in printing byte sequences (in Python), in embedded systems programming (memory addresses) and in representing [colors](http://colllor.com/).\n",
    "\n",
    "The binary system is the fundamental number system of digital computers (1's and 0's). Within the context of industrial systems, exposure to binary is quite typical. PLC programming uses binary especially.\n",
    "\n",
    "Converting between number systems in some contexts requires an understanding of **endianness** (what is the most and least significant digit of a number). When working with Python built-ins that convert between the number systems, you generally do not care per-se. Python, under-the-hood, uses the endianness of the processor on which the interpreter is running.\n",
    "\n",
    "In networking applications you have to be careful. **Application** data that is transmitted between two (or more) systems has an endianness that is entirely defined by the application. Therefore, if you are building a Python networking application to communicate with another application that you may not have written and you are transferring raw data between the two, endianness consistency matters.\n",
    "\n",
    "Fields in the protocols of the Internet - [IPv4](https://en.wikipedia.org/wiki/IPv4), [IPv6](https://en.wikipedia.org/wiki/IPv6), [TCP](https://en.wikipedia.org/wiki/Transmission_Control_Protocol) and [UDP](https://en.wikipedia.org/wiki/User_Datagram_Protocol) all use big-endian (sometimes called \"network byte order\").\n",
    "\n",
    "Intel processors use little-endian.\n",
    "\n",
    "ARM processors are bi-endian or dual-endian (switchable endianness)."
   ]
  },
  {
   "cell_type": "markdown",
   "metadata": {},
   "source": [
    "![Endianness Example in Memory](images/endianness_in_memory.png)"
   ]
  },
  {
   "cell_type": "code",
   "execution_count": 94,
   "metadata": {},
   "outputs": [
    {
     "data": {
      "text/plain": [
       "'0x64'"
      ]
     },
     "execution_count": 94,
     "metadata": {},
     "output_type": "execute_result"
    }
   ],
   "source": [
    "hex(100) # Convert 100 int to hex."
   ]
  },
  {
   "cell_type": "code",
   "execution_count": 95,
   "metadata": {},
   "outputs": [
    {
     "data": {
      "text/plain": [
       "<class 'str'>"
      ]
     },
     "execution_count": 95,
     "metadata": {},
     "output_type": "execute_result"
    }
   ],
   "source": [
    "type(hex(100))"
   ]
  },
  {
   "cell_type": "code",
   "execution_count": 96,
   "metadata": {},
   "outputs": [
    {
     "data": {
      "text/plain": [
       "100"
      ]
     },
     "execution_count": 96,
     "metadata": {},
     "output_type": "execute_result"
    }
   ],
   "source": [
    "# How to manually convert hexidecimal to decimal.\n",
    "\n",
    "(6 * 16**1) + (4 * 16**0) # Base 16."
   ]
  },
  {
   "cell_type": "code",
   "execution_count": 97,
   "metadata": {},
   "outputs": [
    {
     "data": {
      "text/plain": [
       "100"
      ]
     },
     "execution_count": 97,
     "metadata": {},
     "output_type": "execute_result"
    }
   ],
   "source": [
    "int(0x64)"
   ]
  },
  {
   "cell_type": "code",
   "execution_count": 98,
   "metadata": {},
   "outputs": [
    {
     "data": {
      "text/plain": [
       "'0b1100100'"
      ]
     },
     "execution_count": 98,
     "metadata": {},
     "output_type": "execute_result"
    }
   ],
   "source": [
    "bin(100)"
   ]
  },
  {
   "cell_type": "code",
   "execution_count": 99,
   "metadata": {},
   "outputs": [
    {
     "data": {
      "text/plain": [
       "<class 'str'>"
      ]
     },
     "execution_count": 99,
     "metadata": {},
     "output_type": "execute_result"
    }
   ],
   "source": [
    "type(bin(100))"
   ]
  },
  {
   "cell_type": "code",
   "execution_count": 100,
   "metadata": {},
   "outputs": [
    {
     "data": {
      "text/plain": [
       "100"
      ]
     },
     "execution_count": 100,
     "metadata": {},
     "output_type": "execute_result"
    }
   ],
   "source": [
    "# How to manually convert binary to decimal.\n",
    "\n",
    "(1 * 2**6) + (1 * 2**5) + (0 * 2**4) + (0 * 2**3) + (1 * 2**2) + (0 * 2**1) + (0 * 2**0) # Base 2."
   ]
  },
  {
   "cell_type": "code",
   "execution_count": 101,
   "metadata": {},
   "outputs": [
    {
     "data": {
      "text/plain": [
       "100"
      ]
     },
     "execution_count": 101,
     "metadata": {},
     "output_type": "execute_result"
    }
   ],
   "source": [
    "int(0b1100100)"
   ]
  },
  {
   "cell_type": "markdown",
   "metadata": {},
   "source": [
    "#### Explicit Type Conversion \n",
    "\n",
    "Remember [automatic type conversion](#Numeric-Types-and-Operations)? You can also **explicitly** convert types in Python.\n",
    "\n",
    "Primarily, the reason you might want to do this is:\n",
    "\n",
    "* Convert a `str` into a `float` or `int`. This usually shows up when you accept data from a web form or read in user input from the command line and you need to run some secondary calculations on it.\n",
    "* Convert a type (built-in or custom) into a custom type. This is common in many scientific and engineering applications where special properties are desired on the custom type."
   ]
  },
  {
   "cell_type": "code",
   "execution_count": 102,
   "metadata": {},
   "outputs": [
    {
     "data": {
      "text/plain": [
       "2"
      ]
     },
     "execution_count": 102,
     "metadata": {},
     "output_type": "execute_result"
    }
   ],
   "source": [
    "int(2.8)"
   ]
  },
  {
   "cell_type": "code",
   "execution_count": 103,
   "metadata": {},
   "outputs": [
    {
     "data": {
      "text/plain": [
       "-4"
      ]
     },
     "execution_count": 103,
     "metadata": {},
     "output_type": "execute_result"
    }
   ],
   "source": [
    "int(-4.13456)"
   ]
  },
  {
   "cell_type": "code",
   "execution_count": 104,
   "metadata": {},
   "outputs": [
    {
     "data": {
      "text/plain": [
       "4"
      ]
     },
     "execution_count": 104,
     "metadata": {},
     "output_type": "execute_result"
    }
   ],
   "source": [
    "int(4.999999999999)\n",
    "\n",
    "# Interesting. Why did it not round up?"
   ]
  },
  {
   "cell_type": "code",
   "execution_count": 105,
   "metadata": {
    "collapsed": true
   },
   "outputs": [],
   "source": [
    "#long(2)\n",
    "\n",
    "# In Python 2, there used to be a `long` data type. In Python 3, that is no longer the case - the long data type has\n",
    "# been replaced by the int data type."
   ]
  },
  {
   "cell_type": "code",
   "execution_count": 106,
   "metadata": {},
   "outputs": [
    {
     "data": {
      "text/plain": [
       "2.0"
      ]
     },
     "execution_count": 106,
     "metadata": {},
     "output_type": "execute_result"
    }
   ],
   "source": [
    "float(2)"
   ]
  },
  {
   "cell_type": "code",
   "execution_count": 107,
   "metadata": {},
   "outputs": [
    {
     "data": {
      "text/plain": [
       "3.1"
      ]
     },
     "execution_count": 107,
     "metadata": {},
     "output_type": "execute_result"
    }
   ],
   "source": [
    "float(3.1)"
   ]
  },
  {
   "cell_type": "code",
   "execution_count": 108,
   "metadata": {},
   "outputs": [
    {
     "data": {
      "text/plain": [
       "3"
      ]
     },
     "execution_count": 108,
     "metadata": {},
     "output_type": "execute_result"
    }
   ],
   "source": [
    "int(\"3\")"
   ]
  },
  {
   "cell_type": "code",
   "execution_count": 109,
   "metadata": {},
   "outputs": [
    {
     "data": {
      "text/plain": [
       "0.0028"
      ]
     },
     "execution_count": 109,
     "metadata": {},
     "output_type": "execute_result"
    }
   ],
   "source": [
    "float(\"2.8E-3\")\n",
    "\n",
    "# Note the way in which you can use scientific notation in Python."
   ]
  },
  {
   "cell_type": "code",
   "execution_count": 110,
   "metadata": {},
   "outputs": [
    {
     "data": {
      "text/plain": [
       "1.0"
      ]
     },
     "execution_count": 110,
     "metadata": {},
     "output_type": "execute_result"
    }
   ],
   "source": [
    "float(True)"
   ]
  },
  {
   "cell_type": "code",
   "execution_count": 111,
   "metadata": {},
   "outputs": [
    {
     "data": {
      "text/plain": [
       "0.0"
      ]
     },
     "execution_count": 111,
     "metadata": {},
     "output_type": "execute_result"
    }
   ],
   "source": [
    "float(False)"
   ]
  },
  {
   "cell_type": "code",
   "execution_count": 112,
   "metadata": {},
   "outputs": [
    {
     "data": {
      "text/plain": [
       "1"
      ]
     },
     "execution_count": 112,
     "metadata": {},
     "output_type": "execute_result"
    }
   ],
   "source": [
    "int(True)"
   ]
  },
  {
   "cell_type": "code",
   "execution_count": 113,
   "metadata": {},
   "outputs": [
    {
     "data": {
      "text/plain": [
       "0"
      ]
     },
     "execution_count": 113,
     "metadata": {},
     "output_type": "execute_result"
    }
   ],
   "source": [
    "int(False)"
   ]
  },
  {
   "cell_type": "code",
   "execution_count": 114,
   "metadata": {},
   "outputs": [
    {
     "data": {
      "text/plain": [
       "'5.1'"
      ]
     },
     "execution_count": 114,
     "metadata": {},
     "output_type": "execute_result"
    }
   ],
   "source": [
    "str(5.1)"
   ]
  },
  {
   "cell_type": "code",
   "execution_count": 115,
   "metadata": {},
   "outputs": [
    {
     "data": {
      "text/plain": [
       "True"
      ]
     },
     "execution_count": 115,
     "metadata": {},
     "output_type": "execute_result"
    }
   ],
   "source": [
    "bool(len)\n",
    "\n",
    "# Interesting, no? Everything in Python is an object."
   ]
  },
  {
   "cell_type": "code",
   "execution_count": 116,
   "metadata": {},
   "outputs": [
    {
     "data": {
      "text/plain": [
       "True"
      ]
     },
     "execution_count": 116,
     "metadata": {},
     "output_type": "execute_result"
    }
   ],
   "source": [
    "bool(len([0]))"
   ]
  },
  {
   "cell_type": "code",
   "execution_count": 117,
   "metadata": {},
   "outputs": [
    {
     "data": {
      "text/plain": [
       "False"
      ]
     },
     "execution_count": 117,
     "metadata": {},
     "output_type": "execute_result"
    }
   ],
   "source": [
    "bool(len([]))"
   ]
  },
  {
   "cell_type": "code",
   "execution_count": 118,
   "metadata": {},
   "outputs": [
    {
     "data": {
      "text/plain": [
       "['A', 'b', 'C']"
      ]
     },
     "execution_count": 118,
     "metadata": {},
     "output_type": "execute_result"
    }
   ],
   "source": [
    "list(\"AbC\")"
   ]
  },
  {
   "cell_type": "code",
   "execution_count": 119,
   "metadata": {},
   "outputs": [
    {
     "data": {
      "text/plain": [
       "17"
      ]
     },
     "execution_count": 119,
     "metadata": {},
     "output_type": "execute_result"
    }
   ],
   "source": [
    "int(\"11\", 16)\n",
    "\n",
    "# This converts 11 into a base 16 representation (hexadecimal)."
   ]
  },
  {
   "cell_type": "code",
   "execution_count": 120,
   "metadata": {},
   "outputs": [
    {
     "data": {
      "text/plain": [
       "[1, 2]"
      ]
     },
     "execution_count": 120,
     "metadata": {},
     "output_type": "execute_result"
    }
   ],
   "source": [
    "list({1: 'one', 2: 'two'})\n",
    "\n",
    "# Make the keys of a dict into a list."
   ]
  },
  {
   "cell_type": "markdown",
   "metadata": {},
   "source": [
    "### Names (or Variables) and Python Memory Internals\n",
    "\n",
    "Names (or sometimes called variables) are a core part of Python (or most programming languages). Each programming language has its own \"customary\" conventions, but also hard restrictions on what is a valid name.\n",
    "\n",
    "Names in Python should only contain lowercase letters, numbers and underscores.\n",
    "\n",
    "Names should be `lowercase_separated_by_underscores`.\n",
    "\n",
    "There are soft and hard restrictions on the names that you choose to name your objects. These are the following:\n",
    "\n",
    "* You cannot use a number as the first character of a name.\n",
    "* You cannot use a reserved Python keyword (sometimes called reserved words) as a name.\n",
    "* Never use the same name as a Python built-in.\n",
    "* You should avoid putting a double underscore (`__`) in front of your identifiers. In some contexts, a single underscore (`_`) is acceptable. A single underscore prefix means that the identifier is for (weak) \"internal use\" and will not be imported into another Python module. This can be overridden, however.\n",
    "* Never create an indentifier with a double underscore (`__`) in front and in back of the identifier name. These types of names are reserved by the Python interpreter and may conflict with internal Python names - both now and **in the future**.\n",
    "* For Python \"constants\" names, these should be all uppercase letters. For example, `CAPITALIZED_WITH_UNDERSCORES`.\n",
    "* Try not to use abbreviations (within reason) in names. Abbreviations tend to obscure the meaning and intent of the names or identifiers."
   ]
  },
  {
   "cell_type": "code",
   "execution_count": 121,
   "metadata": {
    "collapsed": true
   },
   "outputs": [],
   "source": [
    "# 3_this_is_a_three = 3\n",
    "\n",
    "# This will not work. Names cannot start with a number. This will throw a SyntaxError."
   ]
  },
  {
   "cell_type": "code",
   "execution_count": 122,
   "metadata": {
    "collapsed": true
   },
   "outputs": [],
   "source": [
    "this_is_a_good_name = 3"
   ]
  },
  {
   "cell_type": "code",
   "execution_count": 123,
   "metadata": {
    "collapsed": true
   },
   "outputs": [],
   "source": [
    "# yield = 3\n",
    "\n",
    "# This will not work. This will throw a SyntaxError because yeild is a reserved Python keyword."
   ]
  },
  {
   "cell_type": "markdown",
   "metadata": {},
   "source": [
    "This is a table of the reserved Python 3 keywords. Do not try to use these names as identifiers - it will not work. In fact, it is generally a good idea to avoid these keywords in any part of an identifier name.\n",
    "\n",
    "![Table of Python Reserved Words or Keywords](images/python_reserved_words.png)"
   ]
  },
  {
   "cell_type": "code",
   "execution_count": 124,
   "metadata": {
    "collapsed": true
   },
   "outputs": [],
   "source": [
    "# int = 3\n",
    "\n",
    "# This will actually work, but is **very, very** bad. Why?\n",
    "# Because you just reassigned the built-in `int` function to the numeric literal 3.\n",
    "# Try it in the Python REPL to see what happens."
   ]
  },
  {
   "cell_type": "code",
   "execution_count": 125,
   "metadata": {
    "collapsed": true
   },
   "outputs": [],
   "source": [
    "THIS_IS_A_CONSTANT = 3 # but not really..."
   ]
  },
  {
   "cell_type": "markdown",
   "metadata": {},
   "source": [
    "Memory is finite on a computer system and processes (including instances of the Python runtime) are only allowed a certain amount of it (as determined by the operating system).\n",
    "\n",
    "Once your program exceeds this allocation, bad things start to happen - like [swapping to disk](https://en.wikipedia.org/wiki/Paging#Performance) which hurts performance and [`MemoryError`](https://docs.python.org/3/library/exceptions.html?highlight=memoryerror#MemoryError) Python exceptions are thrown.\n",
    "\n",
    "The Python Virtual Machine uses a memory management technique called **Automatic Garbage Collection** to free up unused memory as a Python program evolves. Let us take a look at a couple of examples."
   ]
  },
  {
   "cell_type": "markdown",
   "metadata": {},
   "source": [
    "![Garbage Collection of Integers](images/garbage_collection_of_integers.png)"
   ]
  },
  {
   "cell_type": "markdown",
   "metadata": {},
   "source": [
    "![Garbage Collection of a String Object](images/garbage_collection_of_string_object.png)"
   ]
  },
  {
   "cell_type": "markdown",
   "metadata": {},
   "source": [
    "Automatic Garbage Collection in Python (and in many other dynamic languages) has advantages and disadvantages:\n",
    "\n",
    "Advantages include:\n",
    "\n",
    "* Frees up the programmer from making, often error-prone, manual memory decisions. This can lead to poor memory management and difficult-to-find bugs.\n",
    "* Makes programs more readable and writable.\n",
    "* Tends to de-couple parts of the program from one another as different parts need not worry about the memory allocation/deallocation choices of other parts.\n",
    "\n",
    "Disadvantages include:\n",
    "\n",
    "* Lost CPU cycles due to garbage collection processing. The unpredictability of this processing can also be a problem.\n",
    "* Object must carry around extra information so that the garbage collector can identify opportunities. Therefore, objects tend to be larger in terms of memory use.\n",
    "* Loss of tight control over the memory allocation process and data structure packing.\n",
    "\n",
    "CPython uses **both** [reference counting and generational garbage collection](https://alex.dzyoba.com/blog/arc-vs-gc/) to identify and execute memory freeing opportunities."
   ]
  },
  {
   "cell_type": "markdown",
   "metadata": {},
   "source": [
    "#### Identity and Logical Equality\n",
    "\n",
    "There are two methods to check \"equivalency\" in Python - `is` and `==` (double equals).\n",
    "\n",
    "`is` will return `True` if two names point to the **same object** (sometimes called **reference equality**).\n",
    "\n",
    "`==` will return `True` if the object in each of the names are **equal** (sometimes called **value equality**).\n",
    "\n",
    "The opposites of the above are `is not` and `!=`."
   ]
  },
  {
   "cell_type": "code",
   "execution_count": 126,
   "metadata": {},
   "outputs": [
    {
     "data": {
      "text/plain": [
       "True"
      ]
     },
     "execution_count": 126,
     "metadata": {},
     "output_type": "execute_result"
    }
   ],
   "source": [
    "list_a = [1, 4, 5]\n",
    "list_b = list_a\n",
    "list_b is list_a"
   ]
  },
  {
   "cell_type": "code",
   "execution_count": 127,
   "metadata": {},
   "outputs": [
    {
     "data": {
      "text/plain": [
       "True"
      ]
     },
     "execution_count": 127,
     "metadata": {},
     "output_type": "execute_result"
    }
   ],
   "source": [
    "list_a == list_b"
   ]
  },
  {
   "cell_type": "code",
   "execution_count": 128,
   "metadata": {},
   "outputs": [
    {
     "data": {
      "text/plain": [
       "True"
      ]
     },
     "execution_count": 128,
     "metadata": {},
     "output_type": "execute_result"
    }
   ],
   "source": [
    "int_a = 1\n",
    "int_b = 1\n",
    "\n",
    "int_a is int_b"
   ]
  },
  {
   "cell_type": "code",
   "execution_count": 129,
   "metadata": {},
   "outputs": [
    {
     "data": {
      "text/plain": [
       "True"
      ]
     },
     "execution_count": 129,
     "metadata": {},
     "output_type": "execute_result"
    }
   ],
   "source": [
    "int_a is 1"
   ]
  },
  {
   "cell_type": "code",
   "execution_count": 130,
   "metadata": {
    "collapsed": true
   },
   "outputs": [],
   "source": [
    "int_big = 1000"
   ]
  },
  {
   "cell_type": "code",
   "execution_count": 131,
   "metadata": {},
   "outputs": [
    {
     "data": {
      "text/plain": [
       "True"
      ]
     },
     "execution_count": 131,
     "metadata": {},
     "output_type": "execute_result"
    }
   ],
   "source": [
    "int_big == 1000"
   ]
  },
  {
   "cell_type": "code",
   "execution_count": 132,
   "metadata": {},
   "outputs": [
    {
     "data": {
      "text/plain": [
       "False"
      ]
     },
     "execution_count": 132,
     "metadata": {},
     "output_type": "execute_result"
    }
   ],
   "source": [
    "int_big is 1000"
   ]
  },
  {
   "cell_type": "markdown",
   "metadata": {},
   "source": [
    "That is strange, huh? The `int_a is 1` check does not seem to be consistent with the `int_big is 1000` check above. Why?\n",
    "\n",
    "This is due to something in the CPython **current** implementation that essentially \"caches\" small integer objects. So, both the `int_a` Integer object and the `1` literal reference the **same** object."
   ]
  },
  {
   "cell_type": "code",
   "execution_count": 133,
   "metadata": {},
   "outputs": [
    {
     "name": "stdout",
     "output_type": "stream",
     "text": [
      "Help on built-in function id in module builtins:\n",
      "\n",
      "id(obj, /)\n",
      "    Return the identity of an object.\n",
      "    \n",
      "    This is guaranteed to be unique among simultaneously existing objects.\n",
      "    (CPython uses the object's memory address.)\n",
      "\n"
     ]
    }
   ],
   "source": [
    "help(id)"
   ]
  },
  {
   "cell_type": "code",
   "execution_count": 134,
   "metadata": {},
   "outputs": [
    {
     "name": "stdout",
     "output_type": "stream",
     "text": [
      "4471838768\n",
      "4471838768\n"
     ]
    }
   ],
   "source": [
    "print(id(int_a))\n",
    "print(id(1))"
   ]
  },
  {
   "cell_type": "markdown",
   "metadata": {},
   "source": [
    "For larger integers (over 256), however, CPython creates two seperate integer objects - one for `int_big` and one for the literal `1000`. To make matters worse, this behavior is not even guaranteed. \n",
    "\n",
    "**Do not** use `is` to check the value of objects, only references. Use `==` and `!=` to compare **values**."
   ]
  },
  {
   "cell_type": "code",
   "execution_count": 135,
   "metadata": {},
   "outputs": [
    {
     "name": "stdout",
     "output_type": "stream",
     "text": [
      "4640311568\n",
      "4640311760\n"
     ]
    }
   ],
   "source": [
    "print(id(int_big))\n",
    "print(id(1000))"
   ]
  },
  {
   "cell_type": "code",
   "execution_count": 136,
   "metadata": {},
   "outputs": [
    {
     "data": {
      "text/plain": [
       "True"
      ]
     },
     "execution_count": 136,
     "metadata": {},
     "output_type": "execute_result"
    }
   ],
   "source": [
    "int_big == 1000"
   ]
  },
  {
   "cell_type": "code",
   "execution_count": 137,
   "metadata": {},
   "outputs": [
    {
     "data": {
      "text/plain": [
       "False"
      ]
     },
     "execution_count": 137,
     "metadata": {},
     "output_type": "execute_result"
    }
   ],
   "source": [
    "int_big != 1000"
   ]
  },
  {
   "cell_type": "code",
   "execution_count": 138,
   "metadata": {},
   "outputs": [
    {
     "data": {
      "text/plain": [
       "True"
      ]
     },
     "execution_count": 138,
     "metadata": {},
     "output_type": "execute_result"
    }
   ],
   "source": [
    "int_big != 5000"
   ]
  },
  {
   "cell_type": "code",
   "execution_count": 139,
   "metadata": {},
   "outputs": [
    {
     "data": {
      "text/plain": [
       "True"
      ]
     },
     "execution_count": 139,
     "metadata": {},
     "output_type": "execute_result"
    }
   ],
   "source": [
    "2.0 == 2\n",
    "\n",
    "# Automatic type conversion makes this True."
   ]
  },
  {
   "cell_type": "markdown",
   "metadata": {},
   "source": [
    "#### Other Value Comparisons"
   ]
  },
  {
   "cell_type": "code",
   "execution_count": 140,
   "metadata": {},
   "outputs": [
    {
     "data": {
      "text/plain": [
       "False"
      ]
     },
     "execution_count": 140,
     "metadata": {},
     "output_type": "execute_result"
    }
   ],
   "source": [
    "1 < 1 # Less than."
   ]
  },
  {
   "cell_type": "code",
   "execution_count": 141,
   "metadata": {},
   "outputs": [
    {
     "data": {
      "text/plain": [
       "False"
      ]
     },
     "execution_count": 141,
     "metadata": {},
     "output_type": "execute_result"
    }
   ],
   "source": [
    "1 > 1 # Greater than."
   ]
  },
  {
   "cell_type": "code",
   "execution_count": 142,
   "metadata": {},
   "outputs": [
    {
     "data": {
      "text/plain": [
       "True"
      ]
     },
     "execution_count": 142,
     "metadata": {},
     "output_type": "execute_result"
    }
   ],
   "source": [
    "1 > -1 # Greater than."
   ]
  },
  {
   "cell_type": "code",
   "execution_count": 143,
   "metadata": {},
   "outputs": [
    {
     "data": {
      "text/plain": [
       "True"
      ]
     },
     "execution_count": 143,
     "metadata": {},
     "output_type": "execute_result"
    }
   ],
   "source": [
    "1 >= 1 # Greater than or equal to."
   ]
  },
  {
   "cell_type": "code",
   "execution_count": 144,
   "metadata": {},
   "outputs": [
    {
     "data": {
      "text/plain": [
       "True"
      ]
     },
     "execution_count": 144,
     "metadata": {},
     "output_type": "execute_result"
    }
   ],
   "source": [
    "1 <= 2 # Less than or equal to."
   ]
  },
  {
   "cell_type": "code",
   "execution_count": 145,
   "metadata": {},
   "outputs": [
    {
     "data": {
      "text/plain": [
       "True"
      ]
     },
     "execution_count": 145,
     "metadata": {},
     "output_type": "execute_result"
    }
   ],
   "source": [
    "not 1 < 1"
   ]
  },
  {
   "cell_type": "code",
   "execution_count": 146,
   "metadata": {},
   "outputs": [
    {
     "data": {
      "text/plain": [
       "True"
      ]
     },
     "execution_count": 146,
     "metadata": {},
     "output_type": "execute_result"
    }
   ],
   "source": [
    "x = 1\n",
    "y = 2\n",
    "z = 3\n",
    "\n",
    "x < y and y < z # What is being checked here?"
   ]
  },
  {
   "cell_type": "code",
   "execution_count": 147,
   "metadata": {},
   "outputs": [
    {
     "data": {
      "text/plain": [
       "True"
      ]
     },
     "execution_count": 147,
     "metadata": {},
     "output_type": "execute_result"
    }
   ],
   "source": [
    "x > y or y < z # And here? What is being checked?"
   ]
  },
  {
   "cell_type": "markdown",
   "metadata": {},
   "source": [
    "With the combination of `and` and `or` and value comparisons, there is the possibility that the expression could \"short circuit\" and not proceed to check both (or more than one) part of the expression before making a `True` or `False` determination.\n",
    "\n",
    "This is done by Python for performance reasons."
   ]
  },
  {
   "cell_type": "markdown",
   "metadata": {},
   "source": [
    "### Control Flow\n",
    "\n",
    "TODO"
   ]
  },
  {
   "cell_type": "markdown",
   "metadata": {},
   "source": [
    "### Loops and Iterables\n",
    "\n",
    "TODO"
   ]
  },
  {
   "cell_type": "markdown",
   "metadata": {},
   "source": [
    "### Input and Output\n",
    "\n",
    "TODO"
   ]
  },
  {
   "cell_type": "markdown",
   "metadata": {},
   "source": [
    "#### Console\n",
    "\n",
    "TODO"
   ]
  },
  {
   "cell_type": "markdown",
   "metadata": {},
   "source": [
    "### Functions\n",
    "\n",
    "TODO"
   ]
  },
  {
   "cell_type": "markdown",
   "metadata": {},
   "source": [
    "#### Scoping\n",
    "\n",
    "TODO"
   ]
  },
  {
   "cell_type": "markdown",
   "metadata": {},
   "source": [
    "### Generators\n",
    "\n",
    "TODO"
   ]
  },
  {
   "cell_type": "markdown",
   "metadata": {},
   "source": [
    "### Classes\n",
    "\n",
    "TODO"
   ]
  },
  {
   "cell_type": "markdown",
   "metadata": {},
   "source": [
    "#### Class Variables, Instance Variables and Methods\n",
    "\n",
    "TODO"
   ]
  },
  {
   "cell_type": "markdown",
   "metadata": {},
   "source": [
    "#### Inheritance\n",
    "\n",
    "TODO"
   ]
  },
  {
   "cell_type": "markdown",
   "metadata": {},
   "source": [
    "#### Composition\n",
    "\n",
    "TODO"
   ]
  },
  {
   "cell_type": "markdown",
   "metadata": {},
   "source": [
    "#### Class Instantiation\n",
    "\n",
    "TODO"
   ]
  },
  {
   "cell_type": "markdown",
   "metadata": {},
   "source": [
    "### Exceptions\n",
    "\n",
    "TODO"
   ]
  },
  {
   "cell_type": "markdown",
   "metadata": {},
   "source": [
    "### Comments\n",
    "\n",
    "Python comments start with a hash (`#`) and go until the end of the line."
   ]
  },
  {
   "cell_type": "code",
   "execution_count": 148,
   "metadata": {
    "collapsed": true
   },
   "outputs": [],
   "source": [
    "a_name= 1 # This is an inline comment.\n",
    "\n",
    "# This is also a comment.\n",
    "b_name = 2\n",
    "\n",
    "# This is a multiline comment and you will see this used typically\n",
    "# for long comments that would exceed 80 characters. This is\n",
    "# sometimes called a block comment.\n",
    "c_name = 3"
   ]
  },
  {
   "cell_type": "markdown",
   "metadata": {},
   "source": [
    "**Comments describe intent, not code.**"
   ]
  },
  {
   "cell_type": "code",
   "execution_count": 149,
   "metadata": {},
   "outputs": [
    {
     "name": "stdout",
     "output_type": "stream",
     "text": [
      "Hello World\n"
     ]
    }
   ],
   "source": [
    "## Poor use of comments.\n",
    "\n",
    "# Print \"Hello World!\" to the console.\n",
    "print(\"Hello World\")"
   ]
  },
  {
   "cell_type": "code",
   "execution_count": 150,
   "metadata": {
    "collapsed": true
   },
   "outputs": [],
   "source": [
    "## Good use of comments.\n",
    "\n",
    "# This is an efficient implementation of a gradient decent algorithm.\n",
    "# Previous iterations of this algorithm were found to be inefficient\n",
    "# because the parameters of the model were not optimzed correctly.\n",
    "# What makes this implementation more efficient is that it pre-batches\n",
    "# data prior to any stepping.\n",
    "def do_gradient_decent():\n",
    "    pass"
   ]
  },
  {
   "cell_type": "markdown",
   "metadata": {},
   "source": [
    "### Docstrings\n",
    "\n",
    "TODO"
   ]
  },
  {
   "cell_type": "markdown",
   "metadata": {},
   "source": [
    "### Code Style\n",
    "\n",
    "Python (and many other languages) are pretty flexible in terms of code style - that is, the number of spaces used within blocks and suites, identifier naming conventions and documentation formats.\n",
    "\n",
    "There are some popular code styles available to choose from:\n",
    "\n",
    "* [PEP 8](https://www.python.org/dev/peps/pep-0008/) and [PEP 257](https://www.python.org/dev/peps/pep-0257/)\n",
    "* [Google Python Style Sample](http://sphinxcontrib-napoleon.readthedocs.io/en/latest/example_google.html#example-google)\n",
    "* [NumPy Python Style Sample](http://sphinxcontrib-napoleon.readthedocs.io/en/latest/example_numpy.html#example-numpy)\n",
    "\n",
    "If you are looking for a written style guide, check out [Google's Python Style Guide](https://google.github.io/styleguide/pyguide.html).\n",
    "\n",
    "Choose a style guide when you start a new Python project and then stay consistent.\n",
    "\n",
    "For projects you do not own and you are contributing to, stay consistent with that project's code style.\n",
    "\n",
    "For the most part, we will use NumPy's style going forward in this workshop."
   ]
  },
  {
   "cell_type": "markdown",
   "metadata": {},
   "source": [
    "### Packages\n",
    "\n",
    "TODO"
   ]
  },
  {
   "cell_type": "markdown",
   "metadata": {},
   "source": [
    "#### Importing\n",
    "\n",
    "For built-ins, no importing is necessary. These functions and classes are implemented as a core part of CPython and are always available in Python modules.\n",
    "\n",
    "For all other packages that are not built-ins, importing is necessary. This includes the [Python Standard Library](https://docs.python.org/3/library/index.html).\n",
    "\n",
    "All imports for a Python module are typically found at the very top of the Python file and each import is on a separate line (for clarity).\n",
    "\n",
    "![Import Statements at Top of Django Common Middleware Module](images/import_statements_from_django_common_middleware.png)\n",
    "\n",
    "![Import Statements at Top of Django HTTP Middleware Module](images/import_statements_from_django_http_middleware.png)\n",
    "\n",
    "TODO"
   ]
  },
  {
   "cell_type": "markdown",
   "metadata": {},
   "source": [
    "### Summary\n",
    "\n",
    "A great first step in continuing your Python journey is to read **a lot** of code! Fortunately, because of the Internet, there is more code available than can be read in a lifetime.\n",
    "\n",
    "Want to see a great list of open-source Python projects and libraries? Check out [Awesome Python](https://github.com/vinta/awesome-python).\n",
    "\n",
    "Also, be to sure to familiarize yourself with the [official Python 3 documentation](https://docs.python.org/3/). The documentation is pretty readable."
   ]
  },
  {
   "cell_type": "markdown",
   "metadata": {},
   "source": [
    "### More Tips and Tricks\n",
    "\n",
    "Check out [Stack Overflow](https://stackoverflow.com/questions/tagged/python). This is sort of the *de facto* software development help and answer resource. It will probably show up a lot on your Google Search results. If you do use Stack Overflow to ask for help:\n",
    "\n",
    "* Make sure to do a search before asking a question. In many cases, it is likely that your problem as been asked about before.\n",
    "* Make sure to provide enough information on your problem or question so that the helpful people on Stack Overflow can help.\n",
    "* Avoid asking subjective questions. For example, \"What is Python your favorite language?\" or \"What kinds of problems is Python good at solving?\".\n",
    "\n",
    "For SME members, we also have the Slack channel available which is fair game for questions about Python, manufacturing and engineering.\n",
    "\n",
    "Want to be better plugged into the tech world? You might want to check out [Hacker News](https://news.ycombinator.com/news). It is the \"water cooler\" of tech.\n",
    "\n",
    "**Get a good office chair (saves your back), a monitor/laptop riser (saves your neck and back) and a standing desk (saves everything)!**"
   ]
  }
 ],
 "metadata": {
  "kernelspec": {
   "display_name": "Python 3",
   "language": "python",
   "name": "python3"
  },
  "language_info": {
   "codemirror_mode": {
    "name": "ipython",
    "version": 3
   },
   "file_extension": ".py",
   "mimetype": "text/x-python",
   "name": "python",
   "nbconvert_exporter": "python",
   "pygments_lexer": "ipython3",
   "version": "3.6.3"
  }
 },
 "nbformat": 4,
 "nbformat_minor": 2
}
