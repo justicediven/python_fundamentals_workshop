{
 "cells": [
  {
   "cell_type": "markdown",
   "metadata": {},
   "source": [
    "## Welcome to Python Fundamentals for Engineers and Manufacturers - Day 1"
   ]
  },
  {
   "cell_type": "markdown",
   "metadata": {
    "collapsed": true
   },
   "source": [
    "### What is Python?\n",
    "\n",
    "* First released in 1991.\n",
    "* High-level programming language.\n",
    "* Free and open-source.\n",
    "* Interpreted.\n",
    "* Cross-platform (mostly).\n",
    "* Extensive standard library.\n",
    "* Automatic memory management.\n",
    "* Designed to be highly readable and explicit.\n",
    "* Proven to be quite versatile and popular.\n",
    "* **Reasonably fast** for many applications."
   ]
  },
  {
   "cell_type": "markdown",
   "metadata": {},
   "source": [
    "### Markdown\n",
    "\n",
    "[Markdown](https://github.com/adam-p/markdown-here/wiki/Markdown-Cheatsheet) is a lightweight markup language which can create rich text (and can be easily converted to other presentation formats like HTML) using a plain text editor.\n",
    "\n",
    "Many of the cells within this Jupyter Notebook contain Markdown and Markdown is **very** popular within the programming space. Many source code documentation systems use Markdown.\n",
    "\n",
    "For example, the [Sphinx](http://www.sphinx-doc.org/en/master/) Python documentation generator can use Markdown using the [recommonmark](http://recommonmark.readthedocs.io/en/latest/index.html) parser."
   ]
  },
  {
   "cell_type": "markdown",
   "metadata": {},
   "source": [
    "### What is a Jupyter Notebook?\n",
    "\n",
    "![Sample of an Interesting Jupyter Notebook](images/jupyter_notebook_example.png)\n",
    "\n",
    "A **Jupyter Notebook** is a human-readable document which can contain a blend of Python ([but not only Python code](https://github.com/jupyter/jupyter/wiki/Jupyter-kernels)) and rich-text (e.g. images, figures, tables). It is a great way to display the experiemental results or distribute encapsulated company knowledge throughout engineering departments."
   ]
  },
  {
   "cell_type": "markdown",
   "metadata": {},
   "source": [
    "### Common Python Use Cases\n",
    "\n",
    "* Data analytics.\n",
    "* Machine learning.\n",
    "* [Robot control](http://www.ros.org/)\n",
    "* Computational geometry.\n",
    "* Application prototyping.\n",
    "* Web applications.\n",
    "* Cybersecurity."
   ]
  },
  {
   "cell_type": "markdown",
   "metadata": {},
   "source": [
    "### Why Python instead of MATLAB?\n",
    "\n",
    "Python is free and open-source while MATLAB is proprietary and somewhat expensive. Python libraries can be deployed to many different contexts and use-cases whereas MATLAB libraries cannot leave the core MATLAB runtime environment.\n",
    "\n",
    "In terms of [domain modeling](https://en.wikipedia.org/wiki/Domain_model), Python is the programming language to use as compared to MATLAB. Both Python and MATLAB possess object-oriented features, but the ones that Python provides are generally more powerful.\n",
    "\n",
    "MATLAB does have some advantages, however. Integrated MATLAB tooling around modeling discrete/continuous systems and code generation ([Simulink](https://www.mathworks.com/products/simulink.html)) is more advanced than what is generally available in Python libraries. Also, MATLAB toolboxes (e.g. real-time and machine vision) tend to be more suitable for research (and some industrial) environments where reuse is not as important.\n",
    "\n",
    "MATLAB has also recently implemented some pretty interesting [deep learning toolsets](https://www.mathworks.com/solutions/deep-learning.html?s_tid=hp_brand_deeplearning) that, while can be built in Python, are easier to use and be productive with."
   ]
  },
  {
   "cell_type": "markdown",
   "metadata": {},
   "source": [
    "### Python's Popularity\n",
    "\n",
    "#### [TIOBE Programming Language Index](https://www.tiobe.com/tiobe-index/)\n",
    "\n",
    "![Python in the TIOBE Index](images/tiobe_programming_lanugage_index_2018.png)\n",
    "\n",
    "#### [Google Search Machine Learning Programming Language Popularity](https://www.ibm.com/developerworks/community/blogs/jfp/entry/What_Language_Is_Best_For_Machine_Learning_And_Data_Science?lang=en)\n",
    "\n",
    "![Python Popularity according to Google Search](images/machine_learning_python_popularity_2016.png)\n",
    "\n",
    "#### [Most In-Demand Languages According to Indeed.com](https://stackify.com/popular-programming-languages-2018/)\n",
    "\n",
    "![Python Popularity for Job Openings on Indeed.com](images/most_indemand_languages_indeed_2017.png)"
   ]
  },
  {
   "cell_type": "markdown",
   "metadata": {},
   "source": [
    "### Python 2 versus Python 3\n",
    "\n",
    "Python 3 is what we will be using throughout this workshop.\n",
    "\n",
    "Python 3 is **not** backwards-compatible with Python 2. Therefore, code written against a Python 3 interpreter is not guaranteed to run on a Python 2 interpreter.\n",
    "\n",
    "Python 3 made several breaking changes to the language. These changes include:\n",
    "\n",
    "* Better [Unicode](https://unicode-table.com/en/) support.\n",
    "* Integrated asynchronous and concurrent code support.\n",
    "* Improved type safety with strings.\n",
    "* Improved consistency with some built-in functions (e.g. `print()`).\n",
    "\n",
    "**For new projects, use Python 3.**\n",
    "\n",
    "Although [many](http://py3readiness.org/) popular Python libraries and projects have largely or completely converted their codebases to Python 3 from Python 2, there are exceptions. **Always** check the repository's `README` and/or `CONTRIBUTING` file and/or issue tracker for clues on which Python version that the project is currently using.\n",
    "\n",
    "A popular compatibility library called [six](https://pythonhosted.org/six/) is often used by codebases in transition to Python 3 as both Python 2 and Python 3 code can co-exist in the same codebase when using six."
   ]
  },
  {
   "cell_type": "markdown",
   "metadata": {
    "collapsed": true
   },
   "source": [
    "### Python Interpreter\n",
    "\n",
    "![Python Interpreter Internals](images/python_interpreter_internals.png)\n",
    "\n",
    "The **Python Interpreter** is responsible for consuming Python source code (`.py` files), compiling the source code into Python Bytecode (`.pyc` files) and then running the bytecode inside of the Python Virtual Machine.\n",
    "\n",
    "Often, Python source files are called **modules**."
   ]
  },
  {
   "cell_type": "markdown",
   "metadata": {},
   "source": [
    "### REPL (Read, Eval, Print, Loop) Environment\n",
    "\n",
    "One of Python's best traits is the availability of a built-in REPL environment from a shell environment (i.e. Terminal in macOS/Linux and Command Line in Windows). This allows you to do lightweight \"experiments\" in Python before perhaps committing the code to a Python script file (`.py` file).\n",
    "\n",
    "You can access this environment by typing `python` in your system shell.\n",
    "\n",
    "**Note** From now on, the `$` symbol will proceed all shell commands and this symbol, when found as a first character on a line, is not to be typed into your shell. It is just there to delineate between sequential shell commands right next to each other.\n",
    "\n",
    "After issuing the `python` command, you should see something like this:\n",
    "\n",
    "![Fresh Python Environment on macOS](images/fresh_python_environment.png)\n",
    "\n",
    "The `>>>` is a prompt waiting for your Python code to be executed (in many cases, instantly).\n",
    "\n",
    "If you see a `...` prompt, this means that the Python interpreter is waiting for more Python code to be entered before it can execute what you started in the `>>>` line. You usually see the `...` if you are typing function or class definitions.\n",
    "\n",
    "For example, let's create a simple function within the Python REPL environment. The following is the function definition we will use (we will ignore the [docstring](https://en.wikipedia.org/wiki/Docstring#Python))."
   ]
  },
  {
   "cell_type": "code",
   "execution_count": 168,
   "metadata": {},
   "outputs": [],
   "source": [
    "def compute_sum(x, y):\n",
    "    \"\"\"Takes two numbers and returns the sum.\n",
    "    \n",
    "    Parameters\n",
    "    ----------\n",
    "    x : int\n",
    "        The first number.\n",
    "    y : int\n",
    "        The second number.\n",
    "        \n",
    "    Returns\n",
    "    -------\n",
    "    int\n",
    "        The sum of the provided numbers.\n",
    "    \"\"\"\n",
    "    sum = x + y\n",
    "    return sum"
   ]
  },
  {
   "cell_type": "markdown",
   "metadata": {},
   "source": [
    "![computeSum Function Definition in the REPL](images/simple_function_in_repl.png)\n",
    "\n",
    "**Note** In many languages, curly braces (`{` and `}`) are used to denote the beginning and the end of function definitions. Python uses idents. More on that later..."
   ]
  },
  {
   "cell_type": "markdown",
   "metadata": {},
   "source": [
    "As a preview, let's run the function that we just created and assign a variable name to the result of that function."
   ]
  },
  {
   "cell_type": "code",
   "execution_count": 169,
   "metadata": {},
   "outputs": [
    {
     "name": "stdout",
     "output_type": "stream",
     "text": [
      "3\n"
     ]
    }
   ],
   "source": [
    "first_sum = compute_sum(1, 2)\n",
    "print(first_sum)"
   ]
  },
  {
   "cell_type": "markdown",
   "metadata": {},
   "source": [
    "### Python Package Index\n",
    "\n",
    "The **Python Package Index** or **PyPI** is a public repository for (mostly open-source) Python libraries (packages) that you can use in your Python software projects.\n",
    "\n",
    "You can also publish your own re-usable Python code to PyPI so that others can use them.\n",
    "\n",
    "#### Using pip\n",
    "\n",
    "Packages can be downloaded and installed to a user's computer by running the `pip` command in your shell.\n",
    "\n",
    "![Get pip Version and Install Django via pip](images/pip_version_pip_install_django.png)\n",
    "\n",
    "The first command displays the version of the currently installed pip binary.\n",
    "\n",
    "The second command will install the **latest version** of [Django](https://www.djangoproject.com/).\n",
    "\n",
    "#### Using a requirements file\n",
    "\n",
    "A requirements file (usually this file is named `requirements.txt`) is a plain-text list of a project's required Python packages (and the desired versions of these packages) so that other people who are working with the Python code can easily retrieve all of these packages in one shot.\n",
    "\n",
    "Here is an example of a requirements file from the [Cookiecutter Django]() project:\n",
    "\n",
    "![Sample pip Requirements File from Cookiecutter Django](images/django_cookiecutter_root_requirements_file.png)\n",
    "\n",
    "Each package name is tied to a version after the `==`.\n",
    "\n",
    "All of the packages within the `requirements.txt` file can be downloaded to a computer with the `pip install -r requirements.txt` shell command.\n",
    "\n",
    "![Install all Packages from a Requirements File](images/pip_install_requirements_file.png)"
   ]
  },
  {
   "cell_type": "markdown",
   "metadata": {},
   "source": [
    "### Python Data Types\n",
    "\n",
    "**Everything** in Python is an object.\n",
    "\n",
    "#### What is an \"object\" according to Python?\n",
    "\n",
    "> Everything is an object in the sense that it can be assigned to a variable or passed as an argument to a function.\n",
    "\n",
    "[Source](http://www.diveintopython.net/getting_to_know_python/everything_is_an_object.html)\n",
    "\n",
    "Python includes the [Python Standard Library](https://docs.python.org/3/library/index.html) which is a collection of facilities which make building useful Python applications easier.\n",
    "\n",
    "The Python Standard Library includes:\n",
    "\n",
    "* Built-in types\n",
    "* Helpful and efficient functions.\n",
    "* Cross-platform abstractions.\n",
    "* Native access to low-level, operating system resources such as file I/O and network services.\n",
    "* Built-in code testing, documentation, debugging and profiling infrastructure.\n",
    "* Internationalization.\n",
    "* Interface to Tcl/Tk for building cross-platform GUIs.\n",
    "* Concurrency interfaces.\n",
    "* Foreign Function Interface (FFI) tools.\n",
    "\n",
    "#### Popular Built-in Data Types\n",
    "\n",
    "Python has available a number of \"built-in\" data types that are very commonly used. Later, we will introduce ways in which you can make your own, custom data types.\n",
    "\n",
    "| Type      | Description                 | Example(s)                                                           |\n",
    "|-----------|-----------------------------|----------------------------------------------------------------------|\n",
    "| `int`     | Integer                     | `3`                                                                  |\n",
    "| `float`   | Floating point number       | `3.0`                                                                |\n",
    "| `complex` | Complex number              | `3 + 3j`                                                             |\n",
    "| `str`     | String                      | `'test'`, `\"this is a 'test'\"`, `\"\"\"Hello!\"\"\"`, `'''Hello world!'''` |\n",
    "| `bool`    | Boolean, subtype of Integer | `True`, `False`                                                      |\n",
    "| `list`    | List                        | `[]`, `[a]`, `[a, b, c]`                                             |\n",
    "| `tuple`   | Tuple                       | `()`, `(a,)`, `(a, b, c)`                                            |\n",
    "| `range`   | Range                       | `list(range(10))`                                                    |\n",
    "| `dict`    | Dictionary                  | `{'one': 1, 'two': 2, 'three': 3}`                                   |\n",
    "\n",
    "#### Numeric Types\n",
    "\n",
    "**Numeric types** are `int`, `float` and `complex`.\n",
    "\n",
    "TODO\n",
    "\n",
    "#### Text Sequence Type\n",
    "\n",
    "There is only one type in this category - `str`.\n",
    "\n",
    "TODO\n",
    "\n",
    "#### Sequence Types\n",
    "\n",
    "**Sequence types** are `list`, `tuple` and `range`.\n",
    "\n",
    "TODO\n",
    "\n",
    "#### Mapping Types\n",
    "\n",
    "TODO"
   ]
  },
  {
   "cell_type": "markdown",
   "metadata": {},
   "source": [
    "#### Numeric Operations\n",
    "\n",
    "TODO"
   ]
  },
  {
   "cell_type": "markdown",
   "metadata": {},
   "source": [
    "#### String Operations\n",
    "\n",
    "TODO"
   ]
  },
  {
   "cell_type": "markdown",
   "metadata": {},
   "source": [
    "#### Boolean Types"
   ]
  },
  {
   "cell_type": "code",
   "execution_count": 170,
   "metadata": {},
   "outputs": [
    {
     "data": {
      "text/plain": [
       "bool"
      ]
     },
     "execution_count": 170,
     "metadata": {},
     "output_type": "execute_result"
    }
   ],
   "source": [
    "type(True)"
   ]
  },
  {
   "cell_type": "code",
   "execution_count": 171,
   "metadata": {},
   "outputs": [
    {
     "data": {
      "text/plain": [
       "bool"
      ]
     },
     "execution_count": 171,
     "metadata": {},
     "output_type": "execute_result"
    }
   ],
   "source": [
    "type(False)"
   ]
  },
  {
   "cell_type": "markdown",
   "metadata": {},
   "source": [
    "#### Boolean Operations"
   ]
  },
  {
   "cell_type": "markdown",
   "metadata": {},
   "source": [
    "TODO"
   ]
  },
  {
   "cell_type": "markdown",
   "metadata": {},
   "source": [
    "#### What is considered `False` in Python?"
   ]
  },
  {
   "cell_type": "code",
   "execution_count": 172,
   "metadata": {},
   "outputs": [
    {
     "data": {
      "text/plain": [
       "True"
      ]
     },
     "execution_count": 172,
     "metadata": {},
     "output_type": "execute_result"
    }
   ],
   "source": [
    "None==False\n",
    "False==False\n",
    "0==False\n",
    "0.0==False\n",
    "0j==False\n",
    "0+0j==False"
   ]
  },
  {
   "cell_type": "code",
   "execution_count": 173,
   "metadata": {},
   "outputs": [
    {
     "data": {
      "text/plain": [
       "True"
      ]
     },
     "execution_count": 173,
     "metadata": {},
     "output_type": "execute_result"
    }
   ],
   "source": [
    "bool('')==False\n",
    "bool(())==False\n",
    "bool([])==False\n",
    "bool({})==False\n",
    "bool(set())==False\n",
    "bool(range(0))==False"
   ]
  },
  {
   "cell_type": "markdown",
   "metadata": {},
   "source": [
    "#### Immutability\n",
    "\n",
    "TODO"
   ]
  },
  {
   "cell_type": "markdown",
   "metadata": {},
   "source": [
    "#### Mutability\n",
    "\n",
    "TODO"
   ]
  },
  {
   "cell_type": "markdown",
   "metadata": {},
   "source": [
    "**Note** There are some \"less commonly used\" built-in types that are not covered here. Read about these types [here](https://docs.python.org/3/library/stdtypes.html)."
   ]
  },
  {
   "cell_type": "markdown",
   "metadata": {},
   "source": [
    "### Variables and Automatic Garbage Collection\n",
    "\n",
    "TODO"
   ]
  },
  {
   "cell_type": "markdown",
   "metadata": {},
   "source": [
    "### Control Flow\n",
    "\n",
    "TODO"
   ]
  },
  {
   "cell_type": "markdown",
   "metadata": {},
   "source": [
    "### Loops and Iterables\n",
    "\n",
    "TODO"
   ]
  },
  {
   "cell_type": "markdown",
   "metadata": {},
   "source": [
    "### Functions\n",
    "\n",
    "TODO"
   ]
  },
  {
   "cell_type": "markdown",
   "metadata": {},
   "source": [
    "#### Scoping\n",
    "\n",
    "TODO"
   ]
  },
  {
   "cell_type": "markdown",
   "metadata": {},
   "source": [
    "### Classes\n",
    "\n",
    "TODO"
   ]
  },
  {
   "cell_type": "markdown",
   "metadata": {},
   "source": [
    "#### Class Variables, Instance Variables and Methods\n",
    "\n",
    "TODO"
   ]
  },
  {
   "cell_type": "markdown",
   "metadata": {},
   "source": [
    "#### Inheritance\n",
    "\n",
    "TODO"
   ]
  },
  {
   "cell_type": "markdown",
   "metadata": {},
   "source": [
    "#### Class Instantiation\n",
    "\n",
    "TODO"
   ]
  },
  {
   "cell_type": "markdown",
   "metadata": {},
   "source": [
    "### Input and Output\n",
    "\n",
    "TODO"
   ]
  },
  {
   "cell_type": "markdown",
   "metadata": {},
   "source": [
    "### Exceptions\n",
    "\n",
    "TODO"
   ]
  },
  {
   "cell_type": "markdown",
   "metadata": {},
   "source": [
    "### Comments\n",
    "\n",
    "TODO"
   ]
  },
  {
   "cell_type": "markdown",
   "metadata": {},
   "source": [
    "### Docstrings\n",
    "\n",
    "TODO"
   ]
  },
  {
   "cell_type": "markdown",
   "metadata": {},
   "source": [
    "### Code Style\n",
    "\n",
    "TODO"
   ]
  },
  {
   "cell_type": "markdown",
   "metadata": {},
   "source": [
    "### Packages\n",
    "\n",
    "TODO"
   ]
  },
  {
   "cell_type": "markdown",
   "metadata": {},
   "source": [
    "#### Importing\n",
    "\n",
    "TODO"
   ]
  },
  {
   "cell_type": "markdown",
   "metadata": {},
   "source": [
    "### Tips\n",
    "\n",
    "TODO - dir(), help()"
   ]
  },
  {
   "cell_type": "markdown",
   "metadata": {},
   "source": [
    "### Summary\n",
    "\n",
    "A great first step in continuing your Python journey is to read **a lot** of code! Fortunately, because of the Internet, there is more code available than can be read in a lifetime.\n",
    "\n",
    "Want to see a great list of open-source Python projects and libraries? Check out [Awesome Python](https://github.com/vinta/awesome-python)."
   ]
  },
  {
   "cell_type": "markdown",
   "metadata": {},
   "source": [
    "## You now know enough to be productive in Python. Let's work on a sample application together!"
   ]
  }
 ],
 "metadata": {
  "kernelspec": {
   "display_name": "Python 3",
   "language": "python",
   "name": "python3"
  },
  "language_info": {
   "codemirror_mode": {
    "name": "ipython",
    "version": 3
   },
   "file_extension": ".py",
   "mimetype": "text/x-python",
   "name": "python",
   "nbconvert_exporter": "python",
   "pygments_lexer": "ipython3",
   "version": "3.6.3"
  }
 },
 "nbformat": 4,
 "nbformat_minor": 2
}
