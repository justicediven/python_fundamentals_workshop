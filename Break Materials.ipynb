{
 "cells": [
  {
   "cell_type": "markdown",
   "metadata": {},
   "source": [
    "## Materials and Links for Breaks"
   ]
  },
  {
   "cell_type": "markdown",
   "metadata": {},
   "source": [
    "### 1st Break\n",
    "\n",
    "While we are on a break, you can look into the following at your option:\n",
    "\n",
    "Signup for a free GitHub account.\n",
    "\n",
    "# [http://bit.ly/1XF0Os5](http://bit.ly/1XF0Os5)\n",
    "\n",
    "Download and install GitHub Desktop.\n",
    "\n",
    "# [http://bit.ly/1JEYZ6S](http://bit.ly/1JEYZ6S)\n",
    "\n",
    "Try to fork and push a branch up to the Git Demonstration Repo on the SME Virtual Network Github.\n",
    "\n",
    "# [http://bit.ly/2tai96a](http://bit.ly/2tai96a)\n",
    "\n",
    "Put your SME Virtual Network Slack requests in (link is also in the video description).\n",
    "\n",
    "# [http://bit.ly/2BpjMiE](http://bit.ly/2BpjMiE)\n",
    "\n",
    "Watch this terrific video on neural neworks.\n",
    "\n",
    "# [http://bit.ly/2oC2V4Z](http://bit.ly/2oC2V4Z)\n",
    "\n",
    "### Did you know?\n",
    "\n",
    "That the above video was animated using Python? Check out the animation library used below. Try and read some of the code.\n",
    "\n",
    "# [http://bit.ly/2GTXsx6](http://bit.ly/2GTXsx6)"
   ]
  },
  {
   "cell_type": "markdown",
   "metadata": {},
   "source": [
    "### 2nd Break\n",
    "\n",
    "While we are on a break, you can look into the following at your option:\n",
    "\n",
    "Watch this great video by the [Google Cloud Platform](https://cloud.google.com/) team which introduces [Supervised Machine Learning](https://en.wikipedia.org/wiki/Supervised_learning).\n",
    "\n",
    "# [http://bit.ly/2ED471m](http://bit.ly/2ED471m)\n",
    "\n",
    "Check out this really cool neural network playground. It is great for playing around with neural networks when you are just getting started.\n",
    "\n",
    "# [http://bit.ly/1oVndUm](http://bit.ly/1oVndUm)"
   ]
  },
  {
   "cell_type": "markdown",
   "metadata": {},
   "source": [
    "### 3rd Break\n",
    "\n",
    "While we are on a break, you can look into the following at your option:\n",
    "\n",
    "Puzzles using the [NumPy](http://www.numpy.org/) Python library:\n",
    "\n",
    "# [http://bit.ly/2ozZ6fV](http://bit.ly/2ozZ6fV)\n",
    "\n",
    "Puzzles using the [Pandas](https://pandas.pydata.org/) Python library:\n",
    "\n",
    "# [http://bit.ly/2F8so0w](http://bit.ly/2F8so0w)"
   ]
  },
  {
   "cell_type": "markdown",
   "metadata": {},
   "source": [
    "### 4th Break\n",
    "\n",
    "While we are on a break, you can look into the following at your option:\n",
    "\n",
    "OpenAI artificial agent competing against a human player in Dota 2.\n",
    "\n",
    "# [http://bit.ly/2FOGEsk](http://bit.ly/2FOGEsk)\n",
    "\n",
    "There are, however, some significant caveats.\n",
    "\n",
    "# [http://bit.ly/2CTgVf1](http://bit.ly/2CTgVf1)\n",
    "\n",
    "This is called [Reinforcement Learning](https://en.wikipedia.org/wiki/Reinforcement_learning)."
   ]
  }
 ],
 "metadata": {
  "kernelspec": {
   "display_name": "Python 3",
   "language": "python",
   "name": "python3"
  },
  "language_info": {
   "codemirror_mode": {
    "name": "ipython",
    "version": 3
   },
   "file_extension": ".py",
   "mimetype": "text/x-python",
   "name": "python",
   "nbconvert_exporter": "python",
   "pygments_lexer": "ipython3",
   "version": "3.6.3"
  }
 },
 "nbformat": 4,
 "nbformat_minor": 2
}
